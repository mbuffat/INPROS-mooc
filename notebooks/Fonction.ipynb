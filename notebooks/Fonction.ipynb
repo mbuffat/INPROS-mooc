{
 "metadata": {
  "name": "",
  "signature": "sha256:6bedc6c8944054328f2f5616a7644fba5dbbba98517ad795cd133b5357da1104"
 },
 "nbformat": 3,
 "nbformat_minor": 0,
 "worksheets": [
  {
   "cells": [
    {
     "cell_type": "markdown",
     "metadata": {},
     "source": [
      "# <a href=\"http://ipython.org/notebook.html\">Ipython notebook : </a> cours <a href=\";.\">INPROS</a> <a href=\"http://inpros.univ-lyon1.fr\"><img style=\" float:right; display:inline; width:120px;\" src=\"files/logo_trans.png\" alt=\"LyonHPC\" /></a>\n",
      "**Auteur: ** <a href=\"http://ufrmeca.univ-lyon1.fr/~buffat\">Marc BUFFAT</a>, Pr dpt de M\u00e9canique, UCB Lyon 1\n",
      "\n",
      "**Contributeurs: ** Violaine Louvet, Michel Kern, Loic Gouarin, Laurence Viry\n",
      "<h6>\n",
      "<a rel=\"license\" href=\"http://creativecommons.org/licenses/by-nc-sa/2.0/fr/\"><img alt=\"Licence Creative Commons\" style=\"border-width:0;float:right;\" src=\"files/cc.png\" /></a><br />Mise \u00e0 disposition selon les termes de la <a rel=\"license\" href=\"http://creativecommons.org/licenses/by-nc-sa/2.0/fr/\">Licence Creative Commons <br> Attribution - Pas d\u2019Utilisation Commerciale - Partage dans les M\u00eames Conditions 2.0 France</a>.\n",
      "</h6>"
     ]
    },
    {
     "cell_type": "code",
     "collapsed": false,
     "input": [
      "%matplotlib inline\n",
      "%autosave 300\n",
      "import numpy as np\n",
      "from IPython.display import HTML,display\n",
      "css_file = 'style.css'\n",
      "try:\n",
      "    display(HTML(open(css_file, \"r\").read()))\n",
      "    print \"using \",css_file\n",
      "except :\n",
      "    print \"using default css\""
     ],
     "language": "python",
     "metadata": {},
     "outputs": [
      {
       "javascript": [
        "IPython.notebook.set_autosave_interval(300000)"
       ],
       "metadata": {},
       "output_type": "display_data"
      },
      {
       "output_type": "stream",
       "stream": "stdout",
       "text": [
        "Autosaving every 300 seconds\n"
       ]
      },
      {
       "html": [
        "<link href='http://fonts.googleapis.com/css?family=Alegreya+Sans:100,300,400,500,700,800,900,100italic,300italic,400italic,500italic,700italic,800italic,900italic' rel='stylesheet' type='text/css'>\n",
        "<link href='http://fonts.googleapis.com/css?family=Arvo:400,700,400italic' rel='stylesheet' type='text/css'>\n",
        "<link href='http://fonts.googleapis.com/css?family=PT+Mono' rel='stylesheet' type='text/css'>\n",
        "<link href='http://fonts.googleapis.com/css?family=Shadows+Into+Light' rel='stylesheet' type='text/css'>\n",
        "<link href='http://fonts.googleapis.com/css?family=Nixie+One' rel='stylesheet' type='text/css'>\n",
        "<style>\n",
        "\n",
        "@font-face {\n",
        "    font-family: \"Computer Modern\";\n",
        "    src: url('http://mirrors.ctan.org/fonts/cm-unicode/fonts/otf/cmunss.otf');\n",
        "}\n",
        "\n",
        "#notebook_panel { /* main background */\n",
        "    background: rgb(245,245,245);\n",
        "}\n",
        "\n",
        "div.cell { /* set cell width */\n",
        "    width: 850px;\n",
        "}\n",
        "\n",
        "\n",
        "div #notebook { /* centre the content */\n",
        "    background: #fff; /* white background for content */\n",
        "    width: 1000px;\n",
        "    margin: auto;\n",
        "    padding-left: 0em;\n",
        "}\n",
        "\n",
        "#notebook li { /* More space between bullet points */\n",
        "margin-top:0.8em;\n",
        "}\n",
        "\n",
        "div.text_cell_render a:link {\n",
        "\ttext-decoration:none;\n",
        "}\n",
        "\n",
        "/* draw border around running cells */\n",
        "div.cell.border-box-sizing.code_cell.running { \n",
        "    border: 1px solid #111;\n",
        "}\n",
        "\n",
        "/* Put a solid color box around each cell and its output, visually linking them*/\n",
        "div.cell.code_cell {\n",
        "    background-color: rgb(256,256,256); \n",
        "    border-radius: 0px; \n",
        "    padding: 0.5em;\n",
        "    margin-left:1em;\n",
        "    margin-top: 1em;\n",
        "}\n",
        "\n",
        "div.text_cell_render{\n",
        "    font-family: 'Alegreya Sans' sans-serif;\n",
        "    line-height: 140%;\n",
        "    font-size: 125%;\n",
        "    font-weight: 400;\n",
        "    width:700px;\n",
        "    margin-left:auto;\n",
        "    margin-right:auto;\n",
        "}\n",
        "\n",
        "\n",
        "/* Formatting for header cells */\n",
        ".text_cell_render h1 {\n",
        "    font-family: 'Nixie One', serif;\n",
        "    font-style:regular;\n",
        "    font-weight: 400;    \n",
        "    font-size: 45pt;\n",
        "    line-height: 100%;\n",
        "    color: rgb(0,51,102);\n",
        "    margin-bottom: 0.5em;\n",
        "    margin-top: 0.5em;\n",
        "    display: block;\n",
        "}\t\n",
        ".text_cell_render h2 {\n",
        "    font-family: 'Nixie One', serif;\n",
        "    font-weight: 400;\n",
        "    font-size: 30pt;\n",
        "    line-height: 100%;\n",
        "    color: rgb(0,51,102);\n",
        "    margin-bottom: 0.1em;\n",
        "    margin-top: 0.3em;\n",
        "    display: block;\n",
        "}\t\n",
        "\n",
        ".text_cell_render h3 {\n",
        "    font-family: 'Nixie One', serif;\n",
        "    margin-top:16px;\n",
        "\tfont-size: 22pt;\n",
        "    font-weight: 600;\n",
        "    margin-bottom: 3px;\n",
        "    font-style: regular;\n",
        "    color: rgb(102,102,0);\n",
        "}\n",
        "\n",
        ".text_cell_render h4 {    /*Use this for captions*/\n",
        "    font-family: 'Nixie One', serif;\n",
        "    font-size: 14pt;\n",
        "    text-align: center;\n",
        "    margin-top: 0em;\n",
        "    margin-bottom: 2em;\n",
        "    font-style: regular;\n",
        "}\n",
        "\n",
        ".text_cell_render h5 {  /*Use this for small titles ou TOC*/\n",
        "    font-family: 'Nixie One', sans-serif;\n",
        "    font-weight: 400;\n",
        "    font-size: 16pt;\n",
        "    color: rgb(163,0,0);\n",
        "    font-style: italic;\n",
        "    margin-bottom: .1em;\n",
        "    margin-top: 0.8em;\n",
        "    display: block;\n",
        "}\n",
        "\n",
        ".text_cell_render h6 { /*use this for copyright note*/\n",
        "    font-family: 'PT Mono', sans-serif;\n",
        "    font-weight: 300;\n",
        "    font-size: 9pt;\n",
        "    line-height: 100%;\n",
        "    color: grey;\n",
        "    margin-bottom: 1px;\n",
        "    margin-top: 1px;\n",
        "}\n",
        "\n",
        ".CodeMirror{\n",
        "        font-family: \"PT Mono\";\n",
        "        font-size: 90%;\n",
        "}\n",
        "\n",
        "</style>\n",
        "<script>\n",
        "    MathJax.Hub.Config({\n",
        "                        TeX: {\n",
        "                           extensions: [\"AMSmath.js\"],\n",
        "                           equationNumbers: { autoNumber: \"AMS\", useLabelIds: true}\n",
        "                           },\n",
        "                tex2jax: {\n",
        "                    inlineMath: [ ['$','$'], [\"\\\\(\",\"\\\\)\"] ],\n",
        "                    displayMath: [ ['$$','$$'], [\"\\\\[\",\"\\\\]\"] ]\n",
        "                },\n",
        "                displayAlign: 'center', // Change this to 'center' to center equations.\n",
        "                \"HTML-CSS\": {\n",
        "                    styles: {'.MathJax_Display': {\"margin\": 4}}\n",
        "                }\n",
        "        });\n",
        "</script>\n"
       ],
       "metadata": {},
       "output_type": "display_data",
       "text": [
        "<IPython.core.display.HTML at 0x7f8ad13e9110>"
       ]
      },
      {
       "output_type": "stream",
       "stream": "stdout",
       "text": [
        "using  style.css\n"
       ]
      }
     ],
     "prompt_number": 12
    },
    {
     "cell_type": "heading",
     "level": 1,
     "metadata": {},
     "source": [
      "<a href=\"#ici000\">Proc\u00e9dures et Fonctions</a><a id=\"ici000\"></a>"
     ]
    },
    {
     "cell_type": "markdown",
     "metadata": {},
     "source": [
      "<div style=\"width:600px; overflow:auto;\">\n",
      "<center>\n",
      "<img style=\" float:center; display:inline; width:180px;\" src=\"files/logo_trans.png\" alt=\"LyonHPC\" />\n",
      "<img style=\" float:center; display:inline; width:200px;\" src=\"files/python-logo.gif\" alt=\"LyonHPC\"/>\n",
      "</center>\n",
      "</div>\n",
      "<img src=\"files/cloud_sommaire.png\" alt=\"cloud\" style=\"float:left; width:300px;\"/>"
     ]
    },
    {
     "cell_type": "markdown",
     "metadata": {},
     "source": [
      "# <a href=\"#sommaire\">Contenu de la le\u00e7on</a><a id=\"sommaire\"></a><a href=\"http://localhost:8888/notebooks/Plan.ipynb\"><img style=\" float:right; display:inline; width:120px;\" src=\"files/logo_trans.png\" alt=\"LyonHPC\" /></a>\n",
      "<h5>\n",
      "1. <a href=\"#procedure\">Proc\u00e9dure</a>\n",
      "2. <a href=\"#fonction\">Fonction en Python</a>\n",
      "3. <a href=\"#arglist\">Passage des arguments</a>\n",
      "3. <a href=\"#exemple\">Exemples de proc\u00e9dures et fonctions</a>\n",
      "4. <a href=\"#parametre\">Param\u00e8tres optionnels d'une fonction</a>\n",
      "5. <a href=\"#methode\">M\u00e9thodes et classes, fonctions de biblioth\u00e9que</a>\n",
      "6. <a href=\"#programmation\">Programmation structur\u00e9e</a>\n",
      "7. <a href=\"#exercice\">Exercice</a>"
     ]
    },
    {
     "cell_type": "markdown",
     "metadata": {},
     "source": [
      "<a href=\"#sommaire\"><img style=\" float:left\" src=\"files/go-home.png\"></a><a href=\"#procedure\"><img style=\" float:center\" src=\"files/go-next.png\"> </a>"
     ]
    },
    {
     "cell_type": "markdown",
     "metadata": {},
     "source": [
      "# <a href=\"#procedure\">Proc\u00e9dure</a><a name=\"procedure\"></a>\n",
      "\n",
      "**proc\u00e9dure**: algorithme avec des param\u00e8tres d'entr\u00e9e (donn\u00e9es) et des param\u00e8tres de sortie (r\u00e9sultat)\n",
      "\n",
      "    Algorithme MaFonction(liste de param\u00e8tres)\n",
      "        variables locales\n",
      "        instructions\n",
      "        retour (liste de valeurs)\n",
      "\n",
      "    # utilisation\n",
      "    val = MaFonction(param1,param2,..)"
     ]
    },
    {
     "cell_type": "markdown",
     "metadata": {},
     "source": [
      "<a href=\"#sommaire\"><img style=\" float:left\" src=\"files/go-home.png\"></a><a href=\"#fonction\"><img style=\" float:center\" src=\"files/go-next.png\"> </a>"
     ]
    },
    {
     "cell_type": "markdown",
     "metadata": {},
     "source": [
      "#<a href=\"#fonction\">Fonction en Python</a><a name=\"fonction\"></a>\n",
      "\n",
      "**impl\u00e9mentation d'une proc\u00e9dure** = **function** (C, Python) , subroutine (Fortran)\n",
      "\n",
      "    # d\u00e9finition\n",
      "    def MaFonction(liste arguments):\n",
      "        instructions\n",
      "        ....\n",
      "        return (liste de valeurs)\n",
      "    # utilisation\n",
      "    (val1, val2, ..) = MaFonction(arg1, arg2, ...) \n",
      "    \n",
      "## <a href=\"#ici001\">Passage des arguments</a><a name=\"ici001\"></a>\n",
      "\n",
      "\n",
      "on affecte aux arguments de la fonction la valeur des param\u00e8tres d'appel:\n",
      "\n",
      "    def MaFonction(a1, a2, a3):\n",
      "        ....\n",
      "        return (v1, v2)\n",
      "        \n",
      "    (V1, V2) = MaFonction(A1, A2, A3)\n",
      "    \n",
      "  - lors de l'appel, on a a1=A1 a2=A2 a3=A3\n",
      "\n",
      "- valeur de retour = liste\n",
      "\n",
      "  - lors du retour, V1=v1, V2=v2\n",
      "        \n",
      "<a href=\"#ici002\">**Exemple Python**</a><a name=\"ici002\"></a>(visualisation avec [http://www.pythontutor.com])"
     ]
    },
    {
     "cell_type": "code",
     "collapsed": false,
     "input": [
      "HTML('<iframe width=\"800\" height=\"400\" frameborder=\"0\" src=\"http://pythontutor.com/iframe-embed.html#code=def+MaFonc(a1,a2,a3)%3A%0A++++v1%3Da1%2Ba3%0A++++v2%3Da2%2Ba3%0A++++return+(v1,v2)%0A%09%0AA1%3D1.%0A(V1,V2)%3DMaFonc(A1,2.,4*A1)&cumulative=false&heapPrimitives=false&drawParentPointers=false&textReferences=false&showOnlyOutputs=false&py=2&curInstr=8&codeDivWidth=350&codeDivHeight=400\"> </iframe>')"
     ],
     "language": "python",
     "metadata": {},
     "outputs": [
      {
       "html": [
        "<iframe width=\"800\" height=\"400\" frameborder=\"0\" src=\"http://pythontutor.com/iframe-embed.html#code=def+MaFonc(a1,a2,a3)%3A%0A++++v1%3Da1%2Ba3%0A++++v2%3Da2%2Ba3%0A++++return+(v1,v2)%0A%09%0AA1%3D1.%0A(V1,V2)%3DMaFonc(A1,2.,4*A1)&cumulative=false&heapPrimitives=false&drawParentPointers=false&textReferences=false&showOnlyOutputs=false&py=2&curInstr=8&codeDivWidth=350&codeDivHeight=400\"> </iframe>"
       ],
       "metadata": {},
       "output_type": "pyout",
       "prompt_number": 13,
       "text": [
        "<IPython.core.display.HTML at 0x7f8ab6f30c50>"
       ]
      }
     ],
     "prompt_number": 13
    },
    {
     "cell_type": "markdown",
     "metadata": {},
     "source": [
      "#<a href=\"#arglist\">Passage des arguments</a><a name=\"arglist\"></a>\n",
      "\n",
      "- pour les variables scalaires: valeur = valeur de la variable\n",
      "    - la variable n'est donc pas modifi\u00e9e\n",
      "    \n",
      "- pour les listes et tableaux: valeur = adresse des donn\u00e9es\n",
      "    - on peut donc modifier la valeur d'une liste ou tableau en argument\n",
      "    - mais \u00e0 condition de ne pas faire de r\u00e9affectation\n",
      "<span style=\"display:block; padding-bottom:100px;\"></span>\n",
      "<a href=\"#ici004\">**Exemple Initialisation de liste (tableau) : version 1**</a><a name=\"ici004\"></a> "
     ]
    },
    {
     "cell_type": "code",
     "collapsed": false,
     "input": [
      "HTML('<iframe width=\"800\" height=\"400\" frameborder=\"0\" src=\"http://pythontutor.com/iframe-embed.html#code=def+InitTab(X)%3A%0A%09X%5B%3A%5D%3D%5B0,0,0%5D%0A%09n%3Dlen(X)%0A%09for+i+in+range(n)%3A%0A%09++++++++X%5Bi%5D%3Di*i%0A%09return%09%0AZ%3D%5B1,1,1%5D%0AInitTab(Z)&cumulative=false&heapPrimitives=false&drawParentPointers=false&textReferences=false&showOnlyOutputs=false&py=2&curInstr=15&codeDivWidth=350&codeDivHeight=400\"> </iframe>')"
     ],
     "language": "python",
     "metadata": {},
     "outputs": [
      {
       "html": [
        "<iframe width=\"800\" height=\"400\" frameborder=\"0\" src=\"http://pythontutor.com/iframe-embed.html#code=def+InitTab(X)%3A%0A%09X%5B%3A%5D%3D%5B0,0,0%5D%0A%09n%3Dlen(X)%0A%09for+i+in+range(n)%3A%0A%09++++++++X%5Bi%5D%3Di*i%0A%09return%09%0AZ%3D%5B1,1,1%5D%0AInitTab(Z)&cumulative=false&heapPrimitives=false&drawParentPointers=false&textReferences=false&showOnlyOutputs=false&py=2&curInstr=15&codeDivWidth=350&codeDivHeight=400\"> </iframe>"
       ],
       "metadata": {},
       "output_type": "pyout",
       "prompt_number": 14,
       "text": [
        "<IPython.core.display.HTML at 0x7f8ab6f30d50>"
       ]
      }
     ],
     "prompt_number": 14
    },
    {
     "cell_type": "markdown",
     "metadata": {},
     "source": [
      "<a href=\"#ici005\">**Initialisation de liste (tableau): version 2**</a><a name=\"ici005\"></a>"
     ]
    },
    {
     "cell_type": "code",
     "collapsed": false,
     "input": [
      "HTML('<iframe width=\"800\" height=\"400\" frameborder=\"0\" src=\"http://pythontutor.com/iframe-embed.html#code=def+InitTab(X)%3A%0A++++X%3D%5B0,0,0%5D%0A++++n%3Dlen(X)%0A++++for+i+in+range(n)%3A%0A++++++++X%5Bi%5D%3Di*i%0A++++return%09%0AZ%3D%5B1,1,1%5D%0AInitTab(Z)&cumulative=false&heapPrimitives=false&drawParentPointers=false&textReferences=false&showOnlyOutputs=false&py=2&curInstr=15&codeDivWidth=350&codeDivHeight=400\"> </iframe>')"
     ],
     "language": "python",
     "metadata": {},
     "outputs": [
      {
       "html": [
        "<iframe width=\"800\" height=\"400\" frameborder=\"0\" src=\"http://pythontutor.com/iframe-embed.html#code=def+InitTab(X)%3A%0A++++X%3D%5B0,0,0%5D%0A++++n%3Dlen(X)%0A++++for+i+in+range(n)%3A%0A++++++++X%5Bi%5D%3Di*i%0A++++return%09%0AZ%3D%5B1,1,1%5D%0AInitTab(Z)&cumulative=false&heapPrimitives=false&drawParentPointers=false&textReferences=false&showOnlyOutputs=false&py=2&curInstr=15&codeDivWidth=350&codeDivHeight=400\"> </iframe>"
       ],
       "metadata": {},
       "output_type": "pyout",
       "prompt_number": 15,
       "text": [
        "<IPython.core.display.HTML at 0x7f8ab6f309d0>"
       ]
      }
     ],
     "prompt_number": 15
    },
    {
     "cell_type": "markdown",
     "metadata": {},
     "source": [
      "<a href=\"#sommaire\"><img style=\" float:left\" src=\"files/go-home.png\"></a><a href=\"#exemple\"><img style=\" float:center\" src=\"files/go-next.png\"> </a>"
     ]
    },
    {
     "cell_type": "markdown",
     "metadata": {},
     "source": [
      "# <a href=\"#exemple\">Exemples de proc\u00e9dures et de fonctions</a><a name=\"exemple\"></a>"
     ]
    },
    {
     "cell_type": "markdown",
     "metadata": {},
     "source": [
      "## <a href=\"#ici009\">Algorithme d'Euclide: calcul du PGCD de 2 entiers</a><a name=\"ici009\"></a>\n",
      "\n",
      "    # Calcul du PGCD\n",
      "    # param\u00e8tres d'entr\u00e9e: 2 entiers positifs a et b\n",
      "    # en sortie: PGCD de a et b\n",
      "    #\n",
      "    Algorithme PGCD(a,b)\n",
      "        tant que a # b \n",
      "            si a>b alors a = a-b \n",
      "            sinon b = b - a \n",
      "        retour a\n",
      "    #\n",
      "\n",
      "###<a href=\"#ici010\">Programme Python</a><a name=\"ici010\"></a>"
     ]
    },
    {
     "cell_type": "code",
     "collapsed": false,
     "input": [
      "def PGCD(a, b):\n",
      "    \"\"\" \n",
      "    Calcul du PGCD de a et b (entiers positifs) \n",
      "    \"\"\"\n",
      "    while a != b:\n",
      "        if a > b: \n",
      "            a = a - b\n",
      "        else:   \n",
      "            b = b - a\n",
      "    return a\n",
      "# utilisation\n",
      "a0, b0 = 15623532, 252568\n",
      "p = PGCD(a0, b0)\n",
      "print \"PGCD de \", a0, b0, \"=\", p"
     ],
     "language": "python",
     "metadata": {},
     "outputs": [
      {
       "output_type": "stream",
       "stream": "stdout",
       "text": [
        "PGCD de  15623532 252568 = 4\n"
       ]
      }
     ],
     "prompt_number": 16
    },
    {
     "cell_type": "markdown",
     "metadata": {},
     "source": [
      "## <a href=\"#ici012\">Algorithme: calcul de la somme d'une s\u00e9rie</a><a name=\"ici012\"></a>\n",
      "$$ S_n = \\sum_{i=1}^n \\frac{1}{i^2} \\mbox{ et } \\lim_{n\\rightarrow\\infty} S_n = \\frac{\\pi^2}{6}$$  \n",
      "\n",
      "    # calcul de la somme Sn et de l'\u00c9cart par rapport \u00e0 la limite\n",
      "    # entr\u00e9e: n entier   sortie: somme, \u00e9cart par rapport \u00e0 limite\n",
      "    Algorithme Somme(n)\n",
      "        S=0.\n",
      "        pour i de 1 a n\n",
      "            S = S + 1./i**2\n",
      "        err = S - (pi**2/6.)\n",
      "        retour S,err\n",
      "### <a href=\"#ici014\">Programme Python</a><a name=\"ici014\"></a>"
     ]
    },
    {
     "cell_type": "code",
     "collapsed": false,
     "input": [
      "# fonction Python\n",
      "def Somme(n):\n",
      "    \"\"\" \n",
      "    Calcul de la somme de la s\u00e9rie 1/i**2  pour i de 0 a n \n",
      "    en sortie: somme et \u00e9cart par rapport \u00e0 la limite\n",
      "    \"\"\"\n",
      "    S=0.\n",
      "    for i in range(1, n + 1):\n",
      "        S = S + 1. / (i*i)\n",
      "    ecart = S - (np.pi**2/6.)\n",
      "    return S, ecart\n",
      "#\n",
      "n = 100\n",
      "S, err = Somme(n)\n",
      "print S, err\n",
      "print Somme(1000)\n",
      "print Somme(10000)"
     ],
     "language": "python",
     "metadata": {},
     "outputs": [
      {
       "output_type": "stream",
       "stream": "stdout",
       "text": [
        "1.63498390018 -0.00995016666333\n",
        "(1.6439345666815615, -0.0009995001666649461)\n",
        "(1.6448340718480652, -9.999500016122376e-05)\n"
       ]
      }
     ],
     "prompt_number": 17
    },
    {
     "cell_type": "markdown",
     "metadata": {},
     "source": [
      "<a href=\"#sommaire\"><img style=\" float:left\" src=\"files/go-home.png\"></a><a href=\"#parametre\"><img style=\" float:center\" src=\"files/go-next.png\"> </a>"
     ]
    },
    {
     "cell_type": "markdown",
     "metadata": {},
     "source": [
      "# <a href=\"#parametre\">Param\u00e8tres optionnels d'une fonction</a><a name=\"parametre\"></a>\n",
      "\n",
      "- En Python possibilit\u00e9 de d\u00e9finir des param\u00e8tres optionnels avec une valeur par d\u00e9faut\n",
      "- Nommage des param\u00e8tres (ordre indiff\u00e9rent)\n",
      "- Tr\u00e8s utilis\u00e9s dans les fonctions des biblioth\u00e8ques\n",
      "\n",
      "\n",
      "        # D\u00e9claration\n",
      "        def MaFonction(par, par1=valdef1, par2=valdef2)\n",
      "    \n",
      "        # Appel\n",
      "        MaFonction(val)\n",
      "        MaFonction(val, par1=val1)\n",
      "        MaFonction(val, par2=val2, par1=val1)\n",
      "   \n",
      "## <a href=\"#ici030\">Exemple: algorithme de H\u00e9ron pour calculer une racine carr\u00e9e</a><a name=\"ici030\"></a>\n",
      "Pour calculer une approximation $u$ de $\\sqrt{a}$, on note que si $u\\approx\\sqrt(a)$ alors $a/u\\approx\\sqrt(a)$ et donc  $\\frac{u + a/u}{2}$  est sans doute une meilleur approximation de $\\sqrt{a}$.  \n",
      "On peut v\u00e9rifier que cette m\u00e9thode babylonienne est en fait un cas particulier de la m\u00e9thode de Newton pour calculer la racine de $f(x)=u^2-a$\n",
      "\n",
      "### <a href=\"#ici030a\">Algorithme</a><a name=\"ici030a\"></a>\n",
      "      Algorithme Heron(a)\n",
      "          u = a/2\n",
      "          eps = 1.e-6\n",
      "          tant que |u**2 - a| > eps\n",
      "              u = (u + a/u)/2\n",
      "          fin tantque\n",
      "          retour u\n",
      "\n",
      "### <a href=\"#ici031\">Programme Python</a><a name=\"ici031\"></a>"
     ]
    },
    {
     "cell_type": "code",
     "collapsed": false,
     "input": [
      "import numpy as np\n",
      "def Heron(a, eps=1e-03, itmax=100):\n",
      "    \"\"\" \n",
      "    calcul une approximation de sqrt(a) avec une precision eps\n",
      "    et une nombre maxi d'iterations itmax \"\"\"\n",
      "    u = a/2.\n",
      "    it = 0\n",
      "    while abs(u**2 - a) > eps:\n",
      "        u  = (u + a/u) / 2.\n",
      "        it = it + 1\n",
      "        if it > itmax:\n",
      "            print \"Attention nbre maxi d'iterations atteint\", it\n",
      "            break\n",
      "    return u, it\n",
      "# utilisation\n",
      "b = 200.\n",
      "print \"sqrt(200) ~\",Heron(b)\n",
      "print \"a 10^-8  pres sqrt(200) ~\",Heron(b, 1.e-08)\n",
      "print \"a 10^-13 pres sqrt(200) ~\",Heron(b, eps=1.e-13)\n",
      "print \"a 10^-14 pres sqrt(200) ~\",Heron(b, eps=1.e-14)\n",
      "print \"a 10^-14 pres sqrt(200) ~\",Heron(b, itmax=200, eps=1.e-14)\n",
      "print \"valeur avec numpy \",np.sqrt(b),repr(np.sqrt(b))"
     ],
     "language": "python",
     "metadata": {},
     "outputs": [
      {
       "output_type": "stream",
       "stream": "stdout",
       "text": [
        "sqrt(200) ~ (14.142135968022693, 6)\n",
        "a 10^-8  pres sqrt(200) ~ (14.142135623730955, 7)\n",
        "a 10^-13 pres sqrt(200) ~ (14.142135623730951, 8)\n",
        "a 10^-14 pres sqrt(200) ~ Attention nbre maxi d'iterations atteint 101\n",
        "(14.142135623730951, 101)\n",
        "a 10^-14 pres sqrt(200) ~ Attention nbre maxi d'iterations atteint 201\n",
        "(14.142135623730951, 201)\n",
        "valeur avec numpy  14.1421356237 14.142135623730951\n"
       ]
      }
     ],
     "prompt_number": 18
    },
    {
     "cell_type": "markdown",
     "metadata": {},
     "source": [
      "## <a href=\"#ici033\">Fonction Lambda</a><a name=\"ici033\"></a>\n",
      "\n",
      "- permet de d\u00e9finir des mini-fonctions (\u00e0 la Lisp)\n",
      "- utile pour des fonctions simples (mais pas obligatoire!!)\n",
      "\n",
      "\n",
      "        F = lambda args : expression(args)"
     ]
    },
    {
     "cell_type": "code",
     "collapsed": false,
     "input": [
      "import numpy as np\n",
      "F = lambda x: np.cos(x**2)\n",
      "print F(1)\n",
      "G = lambda x, y: F(x) + y**2\n",
      "print G(1, 1)"
     ],
     "language": "python",
     "metadata": {},
     "outputs": [
      {
       "output_type": "stream",
       "stream": "stdout",
       "text": [
        "0.540302305868\n",
        "1.54030230587\n"
       ]
      }
     ],
     "prompt_number": 19
    },
    {
     "cell_type": "markdown",
     "metadata": {},
     "source": [
      "<a href=\"#sommaire\"><img style=\" float:left\" src=\"files/go-home.png\"></a><a href=\"#methode\"><img style=\" float:center\" src=\"files/go-next.png\"> </a>"
     ]
    },
    {
     "cell_type": "markdown",
     "metadata": {},
     "source": [
      "# <a href=\"#methode\">M\u00e9thodes, classes et fonctions de biblioth\u00e9que</a><a id=\"methode\"></a>\n",
      "\n",
      "## D\u00e9finition\n",
      "**classe** = type de structure de donn\u00e9es d\u00e9finissant des donn\u00e9es + fonctions pour manipuler ces donn\u00e9es\n",
      "\n",
      "**m\u00e9thode** = fonction associ\u00e9e \u00e0 une classe pour manipuler les donn\u00e9es de la classe\n",
      "\n",
      "**objet** = instance de classe = variable  [donn\u00e9es + m\u00e9thodes]\n",
      "\n",
      "sous Python toute variable (list, string, real, int) est un objet et poss\u00e8de des m\u00e9thodes (p.e pour l'afficher)\n",
      "\n",
      "## <a href=\"#ici040\">Syntaxe d'utilisation d'une m\u00e9thode sous Python</a><a name=\"ici040\"></a>\n",
      "\n",
      "pour un objet A avec un methode func1\n",
      "\n",
      "    A.func1(arg1,arg2,...)\n",
      "    \n",
      "\u00e9quivalent \u00e0\n",
      "\n",
      "    func1(A,arg1,arg2,..)\n",
      "    \n",
      "\n",
      "## <a href=\"#ici041\">Exemple en Python</a><a name=\"ici041\"></a>"
     ]
    },
    {
     "cell_type": "code",
     "collapsed": false,
     "input": [
      "S=\"mon nom\"\n",
      "print S.upper()\n",
      "L=[1,2,3]\n",
      "L.reverse()\n",
      "print L\n",
      "X=3.14157\n",
      "print X.as_integer_ratio()"
     ],
     "language": "python",
     "metadata": {},
     "outputs": [
      {
       "output_type": "stream",
       "stream": "stdout",
       "text": [
        "MON NOM\n",
        "[3, 2, 1]\n",
        "(7074186740679165, 2251799813685248)\n"
       ]
      }
     ],
     "prompt_number": 20
    },
    {
     "cell_type": "markdown",
     "metadata": {},
     "source": [
      "## <a href=\"#ici042\">Aide sous Ipython</a><a name=\"ici042\"></a>\n",
      "Sous Ipython, pour avoir la liste des m\u00e9thodes associ\u00e9es \u00e0 un objet A\n",
      "\n",
      "    A. <tab>   # liste des methodes\n",
      "    A.meth?    # aide sur la methode meth\n"
     ]
    },
    {
     "cell_type": "code",
     "collapsed": false,
     "input": [
      "L"
     ],
     "language": "python",
     "metadata": {},
     "outputs": [
      {
       "metadata": {},
       "output_type": "pyout",
       "prompt_number": 21,
       "text": [
        "[3, 2, 1]"
       ]
      }
     ],
     "prompt_number": 21
    },
    {
     "cell_type": "markdown",
     "metadata": {},
     "source": [
      "## <a href=\"#ici044\">Fonctions d'une biblioth\u00e9que</a><a name=\"ici044\"></a>\n",
      "\n",
      "espace de nom = nom de la biblioth\u00e9que bibli\n",
      "\n",
      "    import bibli\n",
      "\n",
      "nom de la fonction func dans la biblioth\u00e9que \n",
      "\n",
      "    bibli.func\n",
      "    bibli.sous_bibli.func\n",
      "    \n",
      "simplification du nommage\n",
      "\n",
      "    import bibli as bib\n",
      "    import bibli.sous_bibli as sbib\n",
      "    \n",
      "importation d'une fonction\n",
      "\n",
      "    from bibli import func"
     ]
    },
    {
     "cell_type": "code",
     "collapsed": false,
     "input": [
      "import numpy as np\n",
      "print np.sqrt(3)\n",
      "from numpy import tanh\n",
      "print tanh(1)"
     ],
     "language": "python",
     "metadata": {},
     "outputs": [
      {
       "output_type": "stream",
       "stream": "stdout",
       "text": [
        "1.73205080757\n",
        "0.761594155956\n"
       ]
      }
     ],
     "prompt_number": 22
    },
    {
     "cell_type": "markdown",
     "metadata": {},
     "source": [
      "<a href=\"#sommaire\"><img style=\" float:left\" src=\"files/go-home.png\"></a><a href=\"#programmation\"><img style=\" float:center\" src=\"files/go-next.png\"> </a>"
     ]
    },
    {
     "cell_type": "markdown",
     "metadata": {},
     "source": [
      "# <a href=\"#programmation\">Programmation structur\u00e9e</a><a id=\"programmation\"></a>\n",
      "\n",
      "**principe:** *\"Divide and Conquer\"*\n",
      "\n",
      "d\u00e9coupage du probl\u00e8me en une suite de probl\u00e8mes plus simples\n",
      "\n",
      "## <a href=\"#ici050\">Analyse algorithmique \"Top-Down design\"</a><a name=\"ici050\"></a>\n",
      "\n",
      "<img style=\" float:center; display:inline; width:500px;\" src=\"files/analyse_topdown.png\" alt=\"Analyse\" />\n",
      "\n",
      "### <a href=\"#ici051\">Principes de l'analyse top down</a><a name=\"ici051\"></a>\n",
      "\n",
      "- on d\u00e9coupe le probl\u00e8me en une s\u00e9rie de sous-probl\u00e8mes plus simples (si possible ind\u00e9pendant)\n",
      "- on sp\u00e9cifie ce qui doit r\u00e9solu dans chacun des sous-probl\u00e8mes sans forc\u00e9ment dire comment\n",
      "- puis on it\u00e8re au niveau des sous probl\u00e8mes.\n",
      "\n",
      "## <a href=\"#ici054\">Programmation \"Botton-up programming\"</a><a name=\"ici054\"></a>\n",
      "\n",
      "- on part des sous-probl\u00e8mes \u00e9l\u00e9mentaires que l'on programme sous forme de fonctions (ou proc\u00e9dures)\n",
      "- on valide les fonctions\n",
      "- puis on r\u00e9it\u00e8re en remontant dans l'arbre jusqu'au programme principal\n",
      "\n",
      "**r\u00e8gles** r\u00e9utiliser les fonctions d\u00e9j\u00e0 \u00e9crites et valid\u00e9es (biblioth\u00e8ques): *principe du moindre effort !*\n"
     ]
    },
    {
     "cell_type": "markdown",
     "metadata": {},
     "source": [
      "## <a href=\"#ici055\">Exemple: simuler l'alunissage de Neil Amstrong (Apollo 11)</a><a name=\"ici055\"></a>\n",
      "\n",
      "- bas\u00e9 sur une simulation d'alunissage du module lunaire \u00e9crit en basic en 1969, puis popularis\u00e9 en 1979 sur ATARI (Lunar Lander).\n",
      "<center>\n",
      "<img style=\" float:center; display:inline; width:300px;\" src=\"files/Moon_Lander_v2.png\" alt=\"Moon Lander\" />\n",
      "</center>\n",
      "\n",
      "### <a href=\"#ici056\">jeu \"Lunar Lander\":</a><a name=\"ici056\"></a>\n",
      "\n",
      "Poser le module lunaire (LEM) sur la lune en arrivant avec une vitesse quasiment nulle. Pour cela on dispose de r\u00e9tro-fus\u00e9es permettant de ralentir la chute du LEM. \n",
      "\n",
      "- On contr\u00f4le manuellement ces r\u00e9tro-fus\u00e9es en s\u00e9lectionnant une pouss\u00e9e (de 0 \u00e0 9), correspondant \u00e0 l'\u00e9jection de carburant avec un d\u00e9bit $Qe$ variable et une vitesse $Ue$ fixe. \n",
      "- Mais on dispose d'une quantit\u00e9 limit\u00e9e de carburant que l'on doit utiliser avec mod\u00e9ration pour pouvoir atterrir en douceur.\n",
      "\n",
      "### <a href=\"#ici057\">mod\u00e8le physique:</a><a name=\"ici057\"></a>\n",
      "Le LEM, de masse initiale $M0$, est soumis \u00e0 la gravit\u00e9 $g$ de la lune et \u00e0 la pouss\u00e9e des r\u00e9tro-fus\u00e9es, correspondant \u00e0 l'\u00e9jection d'un d\u00e9bit de fuel $Qe$ \u00e0 un vitesse $Ve$ . \n",
      "\n",
      "<img style=\" float:center; display:inline; width:450px;\" src=\"files/LEM.png\" alt=\"LEM\" />\n",
      "\n",
      "### <a href=\"#ici058\">mod\u00e8le math\u00e9matique:</a><a name=\"ici058\"></a>\n",
      "Equation du mouvement:\n",
      "$$ \\frac{d^2 Z}{dt^2} = -g + \\frac{Qe*Ue}{M0-Qe*t}$$\n",
      "\n",
      "en int\u00e9grant sur la dur\u00e9e d'une commande $T$ $\\rightarrow$ vitesse $V$\n",
      "$$ V = V0 + g*T + Ue * \\ln{(1 - \\frac{Qe*T}{M0})} $$\n",
      "La masse du LEM $M$ diminue \n",
      "$$M = M0 -Qe*T$$\n",
      "Approximation par DL car $X=\\frac{Qe*T}{M0} \\ll 1$\n",
      "$$ V = V0 + g*T - Ue*(X + \\frac{X^2}{2} + \\frac{X^3}{3}  + \\frac{X^4}{4} + \\frac{X^5}{5})$$\n",
      "d'o\u00f9 l'altitude $Z$\n",
      "$$ Z = Z0 - V0*T - g \\frac{T^2}{2} + Ue*T*(\\frac{X}{2} + \\frac{X^2}{6} + \\frac{X^3}{12}  + \\frac{X^4}{20} + \\frac{X^5}{30})$$\n",
      "expression utilis\u00e9e dans les premiers programmes en BASIC.\n",
      "\n",
      "###<a href=\"#ici059\">cas particuliers</a><a name=\"ici059\"></a>\n",
      "\n",
      "1. Si le fuel est \u00e9puis\u00e9 ($Qe=0$), le LEM atteins la surface lunaire au bout d'un temps $T$ solution de l'\u00e9quation du 2nd degr\u00e9:\n",
      "$$ 0 = Z0 - V0*T -g \\frac{T^2}{2}$$\n",
      "soit $T = (-V0 + \\sqrt{V0^2 + 2 g Z0})/g$\n",
      "\n",
      "2. Pr\u00e8s de la surface,  $T$ trop grand $\\rightarrow$ pr\u00e9diction $Z0 < 0$\n",
      "   - calcul  $T$ donnant l'altitude $Z=0$, solution d'une \u00e9quation du 6i\u00e8me degr\u00e9. \n",
      "   - calcul par approximations successives en utilisant un DL de $Z(t)$ \n",
      "     1. estimation $T0$ de $T$\n",
      "     $$ T0 = \\frac{-V0 + \\sqrt{V0^2 + 2 (g-\\frac{Ue*Qe}{M0}) Z0}}{g-\\frac{Ue*Qe}{M0}} $$\n",
      "     2. recalcule $V0$ et $Z0$, puis recommence."
     ]
    },
    {
     "cell_type": "markdown",
     "metadata": {},
     "source": [
      "## <a href=\"#ici060\">Algorithme: analyse top-down</a><a name=\"ici060\"></a>\n",
      "\n",
      "### <a href=\"#ici061\">probl\u00e8me global</a><a name=\"ici061\"></a>\n",
      "\n",
      "<img style=\" float:center; display:inline; width:450px;\" src=\"files/Algorithme1.png\" alt=\"Algorithme\" />\n",
      "\n",
      "### <a href=\"#ici062\">sous-probleme Lecture_cde</a><a name=\"ici062\"></a>\n",
      "\n",
      "<img style=\" float:center; display:inline; width:450px;\" src=\"files/Algorithme2.png\" alt=\"Algorithme\" />\n",
      "\n",
      "### <a href=\"#ici063\">sous-probl\u00e8me VitesseAltitude</a><a name=\"ici063\"></a>\n",
      "\n",
      "applications des formules math\u00e9matiques de l'analyse pr\u00e9c\u00e9dente\n",
      "\n",
      "$$ V = V0 + g*T - Ue*(X + \\frac{X^2}{2} + \\frac{X^3}{3}  + \\frac{X^4}{4} + \\frac{X^5}{5})$$\n",
      "$$ Z = Z0 - V0*T - g \\frac{T^2}{2} + Ue*T*(\\frac{X}{2} + \\frac{X^2}{6} + \\frac{X^3}{12}  + \\frac{X^4}{20} + \\frac{X^5}{30})$$\n",
      "\n",
      "### <a href=\"#ici064\">sous-probleme Alunissage</a><a name=\"ici064\"></a>\n",
      "\n",
      "<img style=\" float:center; display:inline; width:450px;\" src=\"files/Algorithme3.png\" alt=\"Algorithme\" />"
     ]
    },
    {
     "cell_type": "markdown",
     "metadata": {},
     "source": [
      "## <a href=\"#ici070\">Programmation Python bottom up</a><a name=\"ici070\"></a>\n",
      "### <a href=\"#ici071\">Fonction Lecture_Cde</a><a name=\"ici071\"></a>"
     ]
    },
    {
     "cell_type": "code",
     "collapsed": false,
     "input": [
      "import numpy as np\n",
      "import sys\n",
      "# constantes en unit\u00e9 SI (kg/m/s)\n",
      "g  = 1.6     # gravit\u00e9\n",
      "Ue = 2900.   # vitesse d'ejection\n",
      "#\n",
      "def Lecture_Cde(Me,dt):\n",
      "    \"\"\" lecture de la commande (pouss\u00e9e) avec test carburant \"\"\"\n",
      "    T=dt\n",
      "    if Me>0 :\n",
      "        # lecture poussee\n",
      "        while True:\n",
      "            ch = raw_input(\"Entrez la valeur de la pouss\u00e9e (0-9) (en 10eme kg/s) = \")[0]\n",
      "            if (ch>='0') and (ch<='9') :\n",
      "                Qe = int(ch)*10 # pousse en kg/s\n",
      "                break;\n",
      "            if (ch=='Q') : sys.exit(1)\n",
      "            print \"Erreur: entrer un chiffre entre 0 et 9 \"\n",
      "        # test si reserve de fuel suffisante\n",
      "        if (Me-Qe*T)<0 :\n",
      "            # temps restant d'utilisation du fuel\n",
      "            T = Me/Qe\n",
      "    else:\n",
      "        print \"Plus de fuel \"\n",
      "        Qe = 0\n",
      "        # calcul du temps T pour parcourir Z0 (alunissage)\n",
      "        T = (-V0 + np.sqrt(V0*V0 + 2*g*Z0)) / g\n",
      "    return Qe,T"
     ],
     "language": "python",
     "metadata": {},
     "outputs": [],
     "prompt_number": 23
    },
    {
     "cell_type": "markdown",
     "metadata": {},
     "source": [
      "### <a href=\"#ici072\">Fonction VitesseAltitude</a><a name=\"ici072\"></a>"
     ]
    },
    {
     "cell_type": "code",
     "collapsed": false,
     "input": [
      "def VitesseAltitude(v0,Z0,X,T):\n",
      "    \"\"\" calcul de la nvlle vitesse en fonction de la vitesse init V0\n",
      "        un d\u00e9bit sans dimension X=Qe*T/M0 de fuel, pendant un temps T\n",
      "        ainsi que de la nouvelle altitude du LEM\n",
      "    \"\"\"\n",
      "    global g,Ue\n",
      "    V = V0 + g*T - Ue*(X + X*X/2. + X**3/3. + X**4/4. + X**5/5.)\n",
      "    Z = Z0 - V0*T - g*T*T/2. + Ue*T*(X/2. + X*X/6. + X**3/12. + X**4/20. + X**5/30.)\n",
      "    return V,Z"
     ],
     "language": "python",
     "metadata": {},
     "outputs": [],
     "prompt_number": 24
    },
    {
     "cell_type": "markdown",
     "metadata": {},
     "source": [
      "### <a href=\"#ici073\">Fonction Alunissage</a><a name=\"ici073\"></a>"
     ]
    },
    {
     "cell_type": "code",
     "collapsed": false,
     "input": [
      "def Alunissage(V0,Z0,M0,Qe):\n",
      "    \"\"\" calcul etat a Z=0 a partir d'une CI V0,Z0,M0 et une pouss\u00e9e Qe \"\"\"\n",
      "    global g,Ue\n",
      "    # calcul du temps T pour alunissage par approximation successive\n",
      "    T0 = 0\n",
      "    while np.abs(Z0) > 1.e-2:\n",
      "            T= (-V0 + np.sqrt(V0*V0 + 2*(g-Ue*Qe/M0)*Z0)) / (g-Ue*Qe/M0)\n",
      "            V0,Z0 = VitesseAltitude(V0,Z0,Qe*T/M0,T)\n",
      "            T0 = T0+ T\n",
      "    return V0,Z0,T0"
     ],
     "language": "python",
     "metadata": {},
     "outputs": [],
     "prompt_number": 25
    },
    {
     "cell_type": "markdown",
     "metadata": {},
     "source": [
      "### <a href=\"#ici074\">Programme principal</a><a name=\"ici074\"></a>"
     ]
    },
    {
     "cell_type": "code",
     "collapsed": false,
     "input": [
      "# conditions initiales\n",
      "Z0 = 190000. # position\n",
      "V0 = 1580.   # et vitesse\n",
      "M0 = 15000.  # masse initiale du LEM\n",
      "Me = 8000.   # dont une masse de fuel\n",
      "t  = 0.      # temps simulation\n",
      "dt = 10.     # pas en temps entre chaque commande\n",
      "#\n",
      "print \"Simulation alunissage\"\n",
      "while np.abs(Z0)>1.e-2 :\n",
      "    Qe,T = Lecture_Cde(Me,dt)\n",
      "    # calcul de la nouvelle position du LEM\n",
      "    V1,Z1 = VitesseAltitude(V0,Z0,Qe*T/M0,T)\n",
      "    # test si alunnissage\n",
      "    if Z1 < 1.e-2 :\n",
      "        V1,Z1,T = Alunissage(V0,Z0,M0,Qe)\n",
      "    # mise a jour de la position du LEM\n",
      "    Z0 = Z1;      V0 = V1\n",
      "    Me = Me-Qe*T; M0 = M0-Qe*T\n",
      "    t  = t + T\n",
      "    print \"t=\",int(t),\"s Z=\",int(Z0),\"m V=\",int(V0),\"m/s fuel=\",int(Me),\"kg\"\n",
      "# fin simulation\n",
      "print \"Alunissage avec une vitesse \",int(V0),\" m/s\"\n",
      "if V0<=0.5 :\n",
      "    print \"Alunissage parfait\"\n",
      "elif V0<=5. :\n",
      "    print \"Bon alunissage, mais perfectible\"\n",
      "elif V0<=27.:\n",
      "    print \"Accident \u00e0 l'alunissage. Attendez les secours en esperant que vous avez assez d'oxygene !!!\"\n",
      "else :\n",
      "    print \"Crash fatal: aucun survivant\""
     ],
     "language": "python",
     "metadata": {},
     "outputs": [
      {
       "output_type": "stream",
       "stream": "stdout",
       "text": [
        "Simulation alunissage\n"
       ]
      },
      {
       "name": "stdout",
       "output_type": "stream",
       "stream": "stdout",
       "text": [
        "Entrez la valeur de la pouss\u00e9e (0-9) (en 10eme kg/s) = 0\n"
       ]
      },
      {
       "output_type": "stream",
       "stream": "stdout",
       "text": [
        "t= 10 s Z= 174120 m V= 1596 m/s fuel= 8000 kg\n"
       ]
      },
      {
       "name": "stdout",
       "output_type": "stream",
       "stream": "stdout",
       "text": [
        "Entrez la valeur de la pouss\u00e9e (0-9) (en 10eme kg/s) = 9\n"
       ]
      },
      {
       "output_type": "stream",
       "stream": "stdout",
       "text": [
        "t= 20 s Z= 158967 m V= 1432 m/s fuel= 7100 kg\n"
       ]
      },
      {
       "name": "stdout",
       "output_type": "stream",
       "stream": "stdout",
       "text": [
        "Entrez la valeur de la pouss\u00e9e (0-9) (en 10eme kg/s) = 9\n"
       ]
      },
      {
       "output_type": "stream",
       "stream": "stdout",
       "text": [
        "t= 30 s Z= 145508 m V= 1257 m/s fuel= 6200 kg\n"
       ]
      },
      {
       "name": "stdout",
       "output_type": "stream",
       "stream": "stdout",
       "text": [
        "Entrez la valeur de la pouss\u00e9e (0-9) (en 10eme kg/s) = 9\n"
       ]
      },
      {
       "output_type": "stream",
       "stream": "stdout",
       "text": [
        "t= 40 s Z= 133867 m V= 1068 m/s fuel= 5300 kg\n"
       ]
      },
      {
       "name": "stdout",
       "output_type": "stream",
       "stream": "stdout",
       "text": [
        "Entrez la valeur de la pouss\u00e9e (0-9) (en 10eme kg/s) = 9\n"
       ]
      },
      {
       "output_type": "stream",
       "stream": "stdout",
       "text": [
        "t= 50 s Z= 124190 m V= 864 m/s fuel= 4400 kg\n"
       ]
      },
      {
       "name": "stdout",
       "output_type": "stream",
       "stream": "stdout",
       "text": [
        "Entrez la valeur de la pouss\u00e9e (0-9) (en 10eme kg/s) = \u00e7\n"
       ]
      },
      {
       "output_type": "stream",
       "stream": "stdout",
       "text": [
        "Erreur: entrer un chiffre entre 0 et 9 \n"
       ]
      },
      {
       "name": "stdout",
       "output_type": "stream",
       "stream": "stdout",
       "text": [
        "Entrez la valeur de la pouss\u00e9e (0-9) (en 10eme kg/s) = 9\n"
       ]
      },
      {
       "output_type": "stream",
       "stream": "stdout",
       "text": [
        "t= 60 s Z= 116644 m V= 641 m/s fuel= 3500 kg\n"
       ]
      },
      {
       "name": "stdout",
       "output_type": "stream",
       "stream": "stdout",
       "text": [
        "Entrez la valeur de la pouss\u00e9e (0-9) (en 10eme kg/s) = 9\n"
       ]
      },
      {
       "output_type": "stream",
       "stream": "stdout",
       "text": [
        "t= 70 s Z= 111428 m V= 397 m/s fuel= 2600 kg\n"
       ]
      },
      {
       "name": "stdout",
       "output_type": "stream",
       "stream": "stdout",
       "text": [
        "Entrez la valeur de la pouss\u00e9e (0-9) (en 10eme kg/s) = 9\n"
       ]
      },
      {
       "output_type": "stream",
       "stream": "stdout",
       "text": [
        "t= 80 s Z= 108774 m V= 128 m/s fuel= 1700 kg\n"
       ]
      },
      {
       "name": "stdout",
       "output_type": "stream",
       "stream": "stdout",
       "text": [
        "Entrez la valeur de la pouss\u00e9e (0-9) (en 10eme kg/s) = 9\n"
       ]
      },
      {
       "output_type": "stream",
       "stream": "stdout",
       "text": [
        "t= 90 s Z= 108966 m V= -172 m/s fuel= 800 kg\n"
       ]
      },
      {
       "name": "stdout",
       "output_type": "stream",
       "stream": "stdout",
       "text": [
        "Entrez la valeur de la pouss\u00e9e (0-9) (en 10eme kg/s) = 9\n"
       ]
      },
      {
       "output_type": "stream",
       "stream": "stdout",
       "text": [
        "t= 98 s Z= 111805 m V= -471 m/s fuel= 0 kg\n",
        "Plus de fuel \n",
        "t= 870 s Z= 0 m V= 761 m/s fuel= 0 kg\n",
        "Alunissage avec une vitesse  761  m/s\n",
        "Crash fatal: aucun survivant\n"
       ]
      }
     ],
     "prompt_number": 26
    },
    {
     "cell_type": "markdown",
     "metadata": {},
     "source": [
      "<a href=\"#sommaire\"><img style=\" float:left\" src=\"files/go-home.png\"></a><a href=\"#exercice\"><img style=\" float:center\" src=\"files/go-next.png\"> </a>"
     ]
    },
    {
     "cell_type": "markdown",
     "metadata": {},
     "source": [
      "# <a href=\"#exercice\">Exercice: simulation d'un lancer de balle</a><a id=\"exercice\"></a>\n",
      "\n",
      "<center>\n",
      "<img style=\" float:center; display:inline; width:180px;\" src=\"files/angry-birds.jpg\" alt=\"Angry-Birds\" />\n",
      "</center>\n",
      "\n",
      "## <a href=\"#ici080\">Mod\u00e8le physique:</a><a name=\"ici080\"></a>\n",
      "\n",
      "<img style=\" float:center; display:inline; width:520px;\" src=\"files/lancer_balle.png\" alt=\"Algorithme\" />\n",
      "\n",
      "## <a href=\"#ici081\">Mod\u00e8le math\u00e9matique:</a><a name=\"ici081\"></a>\n",
      "\n",
      "Ce mod\u00e8le admet une solution analytique simple pour la position $x_0$\n",
      "\n",
      "$$ x_0 = \\frac{ 2 V_0^2 \\sin{\\alpha} \\cos{\\alpha}}{g} $$\n",
      "\n",
      "## <a href=\"#ici082\">Objectif du programme</a><a name=\"ici082\"></a>\n",
      "\n",
      "\u00c9crire un programme Python qui simule le jeux angry birds en mode texte. On pose un bloc \u00e0 une distance $L$ du joueur, qui doit envoyer une balle pour le d\u00e9molir (i.e. atteindre $L$ avec une pr\u00e9cision donn\u00e9e).\n",
      "\n",
      "Le joueur choisit 2 param\u00e8tres \u00e0 valeurs discr\u00e8tes:\n",
      "\n",
      "- l'angle $\\alpha$ (de 1 \u00e0 8 pour un angle de 10 \u00e0 45 degr\u00e9 par pas de 5)\n",
      "- la vitesse initiale $V_0$ (de 1 \u00e0 5 par pas 1).\n",
      "\n",
      "Le joueur a 3 essais, et pour chaque essai, le programme indique la distance atteinte par la balle par rapport au bloc vis\u00e9."
     ]
    },
    {
     "cell_type": "markdown",
     "metadata": {},
     "source": [
      "<a href=\"#sommaire\"><img style=\" float:left\" src=\"files/go-home.png\"></a><a href=\"#Fin\"><img style=\" float:center\" src=\"files/go-next.png\"> </a>"
     ]
    },
    {
     "cell_type": "markdown",
     "metadata": {},
     "source": [
      "# <a href=\"#ici076\">Bibliographie</a><a name=\"ici076\"></a>\n",
      "\n",
      "- <h3>Programme originel \"Lunar Lander\" en Basic sur ATARI:</h3>\n",
      "[\"Lunar Lander basic programme\"](http://atariarchives.org/basicgames/showpage.php?page=106)\n",
      "\n",
      "- <h3>Les classes sous Python </h3>\n",
      "[\"Classes sous Python\"](http://fr.wikibooks.org/wiki/Apprendre_%C3%A0_programmer_avec_Python/Classes,_objets,_attributs),<br> \n",
      "chapitre du livre \"Apprendre \u00e0 programmer avec Python\"\n",
      "\n",
      "- <h3>Livre sur Python</h3> (en t\u00e9l\u00e9chargement gratuit) \n",
      "[\"Apprendre \u00e0 programmer avec Python\"](http://inforef.be/swi/python.htm) de G\u00e9rard Swinnen"
     ]
    },
    {
     "cell_type": "markdown",
     "metadata": {},
     "source": [
      "<a href=\"#sommaire\"><img style=\" float:left\" src=\"files/go-home.png\"></a><a href=\"#Fin\"><img style=\" float:center\" src=\"files/go-next.png\"> </a>"
     ]
    },
    {
     "cell_type": "markdown",
     "metadata": {},
     "source": [
      "#<a href=\"#Fin\">Fin de la le\u00e7on</a><a id=\"Fin\"></a>\n",
      "<div style=\"width:600px; overflow:auto;\">\n",
      "<center>\n",
      "<img style=\" float:center; display:inline; width:180px;\" src=\"files/logo_trans.png\" alt=\"LyonHPC\" />\n",
      "<img style=\" float:center; display:inline; width:200px;\" src=\"files/python-logo.gif\" alt=\"LyonHPC\"/>\n",
      "</center>\n",
      "</div>\n",
      "<img src=\"files/cloud_sommaire.png\" alt=\"cloud\" style=\"float:left; width:300px;\"/>"
     ]
    },
    {
     "cell_type": "code",
     "collapsed": false,
     "input": [],
     "language": "python",
     "metadata": {},
     "outputs": [],
     "prompt_number": 26
    }
   ],
   "metadata": {}
  }
 ]
}