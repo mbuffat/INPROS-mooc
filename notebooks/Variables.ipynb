{
 "metadata": {
  "name": "",
  "signature": "sha256:8cc1ccd9637df6367b8b48269af711b8c672d11b451db707c943c889164ae318"
 },
 "nbformat": 3,
 "nbformat_minor": 0,
 "worksheets": [
  {
   "cells": [
    {
     "cell_type": "markdown",
     "metadata": {},
     "source": [
      "# <a href=\"http://ipython.org/notebook.html\">Ipython notebook : </a> cours <a href=\"..\">INPROS</a> <a href=\"http://inpros.univ-lyon1.fr\"><img style=\" float:right; display:inline; width:120px;\" src=\"files/logo_trans.png\" alt=\"LyonHPC\" /></a>\n",
      "**Auteur: ** <a href=\"http://ufrmeca.univ-lyon1.fr/~buffat\">Marc BUFFAT</a>, Pr dpt de M\u00e9canique, UCB Lyon 1\n",
      "\n",
      "**Contributeurs: ** Violaine Louvet, Michel Kern, Loic Gouarin, Laurence Viry\n",
      "<h6>\n",
      "<a rel=\"license\" href=\"http://creativecommons.org/licenses/by-nc-sa/2.0/fr/\"><img alt=\"Licence Creative Commons\" style=\"border-width:0;float:right;\" src=\"files/cc.png\" /></a><br />Mise \u00e0 disposition selon les termes de la <a rel=\"license\" href=\"http://creativecommons.org/licenses/by-nc-sa/2.0/fr/\">Licence Creative Commons <br> Attribution - Pas d\u2019Utilisation Commerciale - Partage dans les M\u00eames Conditions 2.0 France</a>.\n",
      "</h6>"
     ]
    },
    {
     "cell_type": "code",
     "collapsed": false,
     "input": [
      "%matplotlib inline\n",
      "%autosave 300\n",
      "from IPython.display import HTML,display\n",
      "css_file = 'style.css'\n",
      "try:\n",
      "    display(HTML(open(css_file, \"r\").read()))\n",
      "    print \"using \",css_file\n",
      "except :\n",
      "    print \"using default css\""
     ],
     "language": "python",
     "metadata": {},
     "outputs": [
      {
       "javascript": [
        "IPython.notebook.set_autosave_interval(300000)"
       ],
       "metadata": {},
       "output_type": "display_data"
      },
      {
       "output_type": "stream",
       "stream": "stdout",
       "text": [
        "Autosaving every 300 seconds\n"
       ]
      },
      {
       "html": [
        "<link href='http://fonts.googleapis.com/css?family=Alegreya+Sans:100,300,400,500,700,800,900,100italic,300italic,400italic,500italic,700italic,800italic,900italic' rel='stylesheet' type='text/css'>\n",
        "<link href='http://fonts.googleapis.com/css?family=Arvo:400,700,400italic' rel='stylesheet' type='text/css'>\n",
        "<link href='http://fonts.googleapis.com/css?family=PT+Mono' rel='stylesheet' type='text/css'>\n",
        "<link href='http://fonts.googleapis.com/css?family=Shadows+Into+Light' rel='stylesheet' type='text/css'>\n",
        "<link href='http://fonts.googleapis.com/css?family=Nixie+One' rel='stylesheet' type='text/css'>\n",
        "<style>\n",
        "\n",
        "@font-face {\n",
        "    font-family: \"Computer Modern\";\n",
        "    src: url('http://mirrors.ctan.org/fonts/cm-unicode/fonts/otf/cmunss.otf');\n",
        "}\n",
        "\n",
        "#notebook_panel { /* main background */\n",
        "    background: rgb(245,245,245);\n",
        "}\n",
        "\n",
        "div.cell { /* set cell width */\n",
        "    width: 850px;\n",
        "}\n",
        "\n",
        "\n",
        "div #notebook { /* centre the content */\n",
        "    background: #fff; /* white background for content */\n",
        "    width: 1000px;\n",
        "    margin: auto;\n",
        "    padding-left: 0em;\n",
        "}\n",
        "\n",
        "#notebook li { /* More space between bullet points */\n",
        "margin-top:0.8em;\n",
        "}\n",
        "\n",
        "div.text_cell_render a:link {\n",
        "\ttext-decoration:none;\n",
        "}\n",
        "\n",
        "/* draw border around running cells */\n",
        "div.cell.border-box-sizing.code_cell.running { \n",
        "    border: 1px solid #111;\n",
        "}\n",
        "\n",
        "/* Put a solid color box around each cell and its output, visually linking them*/\n",
        "div.cell.code_cell {\n",
        "    background-color: rgb(256,256,256); \n",
        "    border-radius: 0px; \n",
        "    padding: 0.5em;\n",
        "    margin-left:1em;\n",
        "    margin-top: 1em;\n",
        "}\n",
        "\n",
        "div.text_cell_render{\n",
        "    font-family: 'Alegreya Sans' sans-serif;\n",
        "    line-height: 140%;\n",
        "    font-size: 125%;\n",
        "    font-weight: 400;\n",
        "    width:700px;\n",
        "    margin-left:auto;\n",
        "    margin-right:auto;\n",
        "}\n",
        "\n",
        "\n",
        "/* Formatting for header cells */\n",
        ".text_cell_render h1 {\n",
        "    font-family: 'Nixie One', serif;\n",
        "    font-style:regular;\n",
        "    font-weight: 400;    \n",
        "    font-size: 45pt;\n",
        "    line-height: 100%;\n",
        "    color: rgb(0,51,102);\n",
        "    margin-bottom: 0.5em;\n",
        "    margin-top: 0.5em;\n",
        "    display: block;\n",
        "}\t\n",
        ".text_cell_render h2 {\n",
        "    font-family: 'Nixie One', serif;\n",
        "    font-weight: 400;\n",
        "    font-size: 30pt;\n",
        "    line-height: 100%;\n",
        "    color: rgb(0,51,102);\n",
        "    margin-bottom: 0.1em;\n",
        "    margin-top: 0.3em;\n",
        "    display: block;\n",
        "}\t\n",
        "\n",
        ".text_cell_render h3 {\n",
        "    font-family: 'Nixie One', serif;\n",
        "    margin-top:16px;\n",
        "\tfont-size: 22pt;\n",
        "    font-weight: 600;\n",
        "    margin-bottom: 3px;\n",
        "    font-style: regular;\n",
        "    color: rgb(102,102,0);\n",
        "}\n",
        "\n",
        ".text_cell_render h4 {    /*Use this for captions*/\n",
        "    font-family: 'Nixie One', serif;\n",
        "    font-size: 14pt;\n",
        "    text-align: center;\n",
        "    margin-top: 0em;\n",
        "    margin-bottom: 2em;\n",
        "    font-style: regular;\n",
        "}\n",
        "\n",
        ".text_cell_render h5 {  /*Use this for small titles ou TOC*/\n",
        "    font-family: 'Nixie One', sans-serif;\n",
        "    font-weight: 400;\n",
        "    font-size: 16pt;\n",
        "    color: rgb(163,0,0);\n",
        "    font-style: italic;\n",
        "    margin-bottom: .1em;\n",
        "    margin-top: 0.8em;\n",
        "    display: block;\n",
        "}\n",
        "\n",
        ".text_cell_render h6 { /*use this for copyright note*/\n",
        "    font-family: 'PT Mono', sans-serif;\n",
        "    font-weight: 300;\n",
        "    font-size: 9pt;\n",
        "    line-height: 100%;\n",
        "    color: grey;\n",
        "    margin-bottom: 1px;\n",
        "    margin-top: 1px;\n",
        "}\n",
        "\n",
        ".CodeMirror{\n",
        "        font-family: \"PT Mono\";\n",
        "        font-size: 90%;\n",
        "}\n",
        "\n",
        "</style>\n",
        "<script>\n",
        "    MathJax.Hub.Config({\n",
        "                        TeX: {\n",
        "                           extensions: [\"AMSmath.js\"],\n",
        "                           equationNumbers: { autoNumber: \"AMS\", useLabelIds: true}\n",
        "                           },\n",
        "                tex2jax: {\n",
        "                    inlineMath: [ ['$','$'], [\"\\\\(\",\"\\\\)\"] ],\n",
        "                    displayMath: [ ['$$','$$'], [\"\\\\[\",\"\\\\]\"] ]\n",
        "                },\n",
        "                displayAlign: 'center', // Change this to 'center' to center equations.\n",
        "                \"HTML-CSS\": {\n",
        "                    styles: {'.MathJax_Display': {\"margin\": 4}}\n",
        "                }\n",
        "        });\n",
        "</script>\n"
       ],
       "metadata": {},
       "output_type": "display_data",
       "text": [
        "<IPython.core.display.HTML at 0x7fd2c118f290>"
       ]
      },
      {
       "output_type": "stream",
       "stream": "stdout",
       "text": [
        "using  style.css\n"
       ]
      }
     ],
     "prompt_number": 1
    },
    {
     "cell_type": "heading",
     "level": 1,
     "metadata": {},
     "source": [
      "<a href=\"#ici000\">Variable et \u00e9lements de base en Python</a><a id=\"ici000\"/>"
     ]
    },
    {
     "cell_type": "markdown",
     "metadata": {},
     "source": [
      "<div style=\"width:600px; overflow:auto;\">\n",
      "<center>\n",
      "<a href=\"#sommaire\"><img style=\" float:center; display:inline; width:180px;\" src=\"files/logo_trans.png\" alt=\"LyonHPC\" /></a>\n",
      "<img style=\" float:center; display:inline; width:200px;\" src=\"files/python-logo.gif\" alt=\"LyonHPC\"/>\n",
      "</center>\n",
      "</div>\n",
      "<img src=\"files/cloud_sommaire.png\" alt=\"sommaire\" style=\"float:left; width:300px;\"/>"
     ]
    },
    {
     "cell_type": "markdown",
     "metadata": {},
     "source": [
      "#<a href=\"#sommaire\">Contenu de la le\u00e7on</a><a name=\"sommaire\"></a><a href=\"http://localhost:8888/notebooks/Plan.ipynb\"><img style=\" float:right; display:inline; width:120px;\" src=\"files/logo_trans.png\" alt=\"LyonHPC\" /></a>\n",
      "<h5>\n",
      "1. <a href=\"#premier_prog\">Premier programme Python</a>\n",
      "2. <a href=\"#types\">Types de base</a>\n",
      "4. <a href=\"#variable\">Notion de variable</a>\n",
      "6. <a href=\"#fonctions_math\">Fonctions math\u00e9matiques</a>\n",
      "8. <a href=\"#liste\">Les listes</a>\n",
      "9. <a href=\"#dictionnaire\">Les dictionnaires</a>\n"
     ]
    },
    {
     "cell_type": "markdown",
     "metadata": {},
     "source": [
      "<a href=\"#sommaire\"><img style=\" float:left\" src=\"files/go-home.png\"></a><a href=\"#premier_prog\"><img style=\" float:center\" src=\"files/go-next.png\"> </a>"
     ]
    },
    {
     "cell_type": "markdown",
     "metadata": {},
     "source": [
      "# <a href=\"#premier_prog\">Premier programme Python</a><a id=\"premier_prog\"></a>\n",
      "\n",
      "\n",
      "Utilisation de **print** pour afficher la valeur d'une expression"
     ]
    },
    {
     "cell_type": "code",
     "collapsed": false,
     "input": [
      "print \"Surface du disque =\", 3.14159*2.2*2.2"
     ],
     "language": "python",
     "metadata": {},
     "outputs": [
      {
       "output_type": "stream",
       "stream": "stdout",
       "text": [
        "Surface du disque = 15.2052956\n"
       ]
      }
     ],
     "prompt_number": 2
    },
    {
     "cell_type": "markdown",
     "metadata": {},
     "source": [
      "Vous pouvez tester en ligne les exemples Python en utilisant la cellule SageCell\n",
      "\n",
      "<a href=\"http://inpros.univ-lyon1.fr/mod/page/view.php?id=36\">cellule SageCell du cours InPros</a>\n",
      "\n",
      "Vous pouvez aussi utiliser l'interpr\u00e9teur Python sur votre ordinateur, par exemple l'interpr\u00e9teur ipython (<a href=\"http://ipython.org/install.html\">http://ipython.org</a>)\n",
      "\n",
      "**bonnes pratiques:** privil\u00e9gier la lissibilit\u00e9 et utiliser des commentaires\n",
      "\n",
      "        # ceci est un commentaire sous python"
     ]
    },
    {
     "cell_type": "markdown",
     "metadata": {},
     "source": [
      "<a href=\"#sommaire\"><img style=\" float:left\" src=\"files/go-home.png\"></a><a href=\"#types\"><img style=\" float:center\" src=\"files/go-next.png\"> </a>"
     ]
    },
    {
     "cell_type": "markdown",
     "metadata": {},
     "source": [
      "# <a href=\"#types\">Types de base</a><a id=\"types\"></a>\n",
      "Les 3 principaux types de base sous Python sont:\n",
      "\n",
      "1. les nombres entiers\n",
      "\n",
      "2. les nombres r\u00e9els avec un **.** pour d\u00e9noter la virgule\n",
      "\n",
      "3. les chaines de caract\u00e8res, d\u00e9limit\u00e9s par **\"** ou **'**"
     ]
    },
    {
     "cell_type": "code",
     "collapsed": false,
     "input": [
      "print \"ceci est un entier =\", 2\n",
      "print \"mais ceci est un nombre r\u00e9el =\", 2.\n",
      "print \"et ceci une chaine de caract\u00e8res =\", \"deux\", 'deux'"
     ],
     "language": "python",
     "metadata": {},
     "outputs": [
      {
       "output_type": "stream",
       "stream": "stdout",
       "text": [
        "ceci est un entier = 2\n",
        "mais ceci est un nombre r\u00e9el = 2.0\n",
        "et ceci une chaine de caract\u00e8res = deux deux\n"
       ]
      }
     ],
     "prompt_number": 3
    },
    {
     "cell_type": "markdown",
     "metadata": {},
     "source": [
      "Notation avec exposant **2.0e11** $=2\\ 10^{11}$ \n",
      "\n",
      "Les op\u00e9rations **+,-,x,/** sont exactes pour les nombres entiers, mais approch\u00e9es avec les nombres r\u00e9els (car non repr\u00e9sentables exactement en base 2 !)"
     ]
    },
    {
     "cell_type": "code",
     "collapsed": false,
     "input": [
      "print \"res=\",1. + 2.\n",
      "print \"res=\",0.1 + 0.2"
     ],
     "language": "python",
     "metadata": {},
     "outputs": [
      {
       "output_type": "stream",
       "stream": "stdout",
       "text": [
        "res= 3.0\n",
        "res= 0.3\n"
       ]
      }
     ],
     "prompt_number": 4
    },
    {
     "cell_type": "markdown",
     "metadata": {},
     "source": [
      "Attention l'affichage avec **print** peut \u00eatre trompeur!! (**repr**)"
     ]
    },
    {
     "cell_type": "code",
     "collapsed": false,
     "input": [
      "print repr(1.+2.)\n",
      "print repr(.1+.2)"
     ],
     "language": "python",
     "metadata": {},
     "outputs": [
      {
       "output_type": "stream",
       "stream": "stdout",
       "text": [
        "3.0\n",
        "0.30000000000000004\n"
       ]
      }
     ],
     "prompt_number": 5
    },
    {
     "cell_type": "markdown",
     "metadata": {},
     "source": [
      "## Syntaxe\n",
      "\n",
      "* un programme informatique ob\u00e9it \u00e0 une syntaxe rigide\n",
      "\n",
      "* chaque langage informatique \u00e0 sa propre syntaxe\n",
      "\n",
      "* mais en g\u00e9n\u00e9ral les r\u00e8gles de syntaxe sont simples\n",
      "\n",
      "* la programmation n'est pas l'apprentissage de la syntaxe\n",
      "\n",
      "## <a href=\"#ici011\">Erreur de syntaxe</a><a id=\"ici011\"></a>\n",
      "\n",
      "* en \u00e9crivant un programme, on fait souvent des erreurs de syntaxe\n",
      "\n",
      "* en g\u00e9n\u00e9rale elles sont faciles \u00e0 corriger"
     ]
    },
    {
     "cell_type": "code",
     "collapsed": false,
     "input": [
      "print \"valeur =\"  1"
     ],
     "language": "python",
     "metadata": {},
     "outputs": [
      {
       "ename": "SyntaxError",
       "evalue": "invalid syntax (<ipython-input-6-193575c7d597>, line 1)",
       "output_type": "pyerr",
       "traceback": [
        "\u001b[1;36m  File \u001b[1;32m\"<ipython-input-6-193575c7d597>\"\u001b[1;36m, line \u001b[1;32m1\u001b[0m\n\u001b[1;33m    print \"valeur =\"  1\u001b[0m\n\u001b[1;37m                      ^\u001b[0m\n\u001b[1;31mSyntaxError\u001b[0m\u001b[1;31m:\u001b[0m invalid syntax\n"
       ]
      }
     ],
     "prompt_number": 6
    },
    {
     "cell_type": "markdown",
     "metadata": {},
     "source": [
      "**Attention** en Python, les instructions doivent respect\u00e9es une mise en page."
     ]
    },
    {
     "cell_type": "code",
     "collapsed": false,
     "input": [
      "print \"valeur =\",1\n",
      " print \"valeur =\",2"
     ],
     "language": "python",
     "metadata": {},
     "outputs": [
      {
       "ename": "IndentationError",
       "evalue": "unexpected indent (<ipython-input-7-2d40799b29b7>, line 2)",
       "output_type": "pyerr",
       "traceback": [
        "\u001b[1;36m  File \u001b[1;32m\"<ipython-input-7-2d40799b29b7>\"\u001b[1;36m, line \u001b[1;32m2\u001b[0m\n\u001b[1;33m    print \"valeur =\",2\u001b[0m\n\u001b[1;37m    ^\u001b[0m\n\u001b[1;31mIndentationError\u001b[0m\u001b[1;31m:\u001b[0m unexpected indent\n"
       ]
      }
     ],
     "prompt_number": 7
    },
    {
     "cell_type": "markdown",
     "metadata": {},
     "source": [
      "## <a href=\"#ici012\">Exercice 1</a><a id=\"ici012\"></a>\n",
      "Ecrire un programme Python affichant<br>\n",
      "1 <br>\n",
      "1 2 <br>\n",
      "1 2 3 <br>"
     ]
    },
    {
     "cell_type": "code",
     "collapsed": false,
     "input": [
      "print 1\n",
      "print 1,2\n",
      "print 1,2,3"
     ],
     "language": "python",
     "metadata": {},
     "outputs": [
      {
       "output_type": "stream",
       "stream": "stdout",
       "text": [
        "1\n",
        "1 2\n",
        "1 2 3\n"
       ]
      }
     ],
     "prompt_number": 8
    },
    {
     "cell_type": "markdown",
     "metadata": {},
     "source": [
      "Modifier le programme pour afficher\n",
      "\n",
      "&nbsp;&nbsp;&nbsp;&nbsp;&nbsp;&nbsp;&nbsp;1 <br>\n",
      "&nbsp;&nbsp;&nbsp;2&nbsp;&nbsp;1 <br>\n",
      "3&nbsp;2&nbsp;&nbsp;1 <br>"
     ]
    },
    {
     "cell_type": "markdown",
     "metadata": {},
     "source": [
      "<a href=\"#sommaire\"><img style=\" float:left\" src=\"files/go-home.png\"></a><a href=\"#variable\"><img style=\" float:center\" src=\"files/go-next.png\"> </a>"
     ]
    },
    {
     "cell_type": "markdown",
     "metadata": {},
     "source": [
      "# <a href=\"#variable\">Notion de variable</a><a id=\"variable\"></a>\n",
      "<img src=\"files/a2box.png\" alt=\"variable\" style=\"width:100px;\"/>\n",
      "\n",
      "* une variable est comme une bo\u00eete qui sert \u00e0 stocker une valeur\n",
      "\n",
      "        a = 2\n",
      "\n",
      "* la ligne pr\u00e9c\u00e9dente stocke la valeur 2 dans la variable a\n",
      "\n",
      "* c'est une instruction d'affectation (et non d'\u00e9galit\u00e9)"
     ]
    },
    {
     "cell_type": "code",
     "collapsed": false,
     "input": [
      "x = 1\n",
      "print \"x = \",x\n",
      "x = x + 1\n",
      "print \"maintenant x = \",x"
     ],
     "language": "python",
     "metadata": {},
     "outputs": [
      {
       "output_type": "stream",
       "stream": "stdout",
       "text": [
        "x =  1\n",
        "maintenant x =  2\n"
       ]
      }
     ],
     "prompt_number": 9
    },
    {
     "cell_type": "markdown",
     "metadata": {},
     "source": [
      "### <a href=\"#ici021\">visualisation de l'ex\u00e9cution</a><a id=\"ici021\"></a>"
     ]
    },
    {
     "cell_type": "code",
     "collapsed": false,
     "input": [
      "HTML('<iframe width=\"800\" height=\"300\" frameborder=\"0\" src=\"http://pythontutor.com/iframe-embed.html#code=x%3D1%0Ax%3Dx%2B1%0Ay%3D1.0%0As%3D%22un%22&cumulative=false&heapPrimitives=false&drawParentPointers=false&textReferences=false&showOnlyOutputs=false&py=2&curInstr=0&codeDivWidth=350&codeDivHeight=400\"> </iframe>')"
     ],
     "language": "python",
     "metadata": {},
     "outputs": [
      {
       "html": [
        "<iframe width=\"800\" height=\"300\" frameborder=\"0\" src=\"http://pythontutor.com/iframe-embed.html#code=x%3D1%0Ax%3Dx%2B1%0Ay%3D1.0%0As%3D%22un%22&cumulative=false&heapPrimitives=false&drawParentPointers=false&textReferences=false&showOnlyOutputs=false&py=2&curInstr=0&codeDivWidth=350&codeDivHeight=400\"> </iframe>"
       ],
       "metadata": {},
       "output_type": "pyout",
       "prompt_number": 10,
       "text": [
        "<IPython.core.display.HTML at 0x7fd2c118f510>"
       ]
      }
     ],
     "prompt_number": 10
    },
    {
     "cell_type": "markdown",
     "metadata": {},
     "source": [
      "## <a href=\"#ici022\">r\u00e8gles d'utilisation des variables</a><a id=\"ici022\"></a>\n",
      "\n",
      "* le nom des variables est quelconque ( \u00e0 condition de commencer par une lettre et de ne pas contenir d'espace),"
     ]
    },
    {
     "cell_type": "code",
     "collapsed": false,
     "input": [
      "ma_variable = 10.0\n",
      "print 2*ma_variable"
     ],
     "language": "python",
     "metadata": {},
     "outputs": [
      {
       "output_type": "stream",
       "stream": "stdout",
       "text": [
        "20.0\n"
       ]
      }
     ],
     "prompt_number": 11
    },
    {
     "cell_type": "markdown",
     "metadata": {},
     "source": [
      "**Attention**: erreur dans le nom d'une variable"
     ]
    },
    {
     "cell_type": "code",
     "collapsed": false,
     "input": [
      "ma variable = 15\n",
      "1x = 5"
     ],
     "language": "python",
     "metadata": {},
     "outputs": [
      {
       "ename": "SyntaxError",
       "evalue": "invalid syntax (<ipython-input-12-ab2206549f5e>, line 1)",
       "output_type": "pyerr",
       "traceback": [
        "\u001b[1;36m  File \u001b[1;32m\"<ipython-input-12-ab2206549f5e>\"\u001b[1;36m, line \u001b[1;32m1\u001b[0m\n\u001b[1;33m    ma variable = 15\u001b[0m\n\u001b[1;37m              ^\u001b[0m\n\u001b[1;31mSyntaxError\u001b[0m\u001b[1;31m:\u001b[0m invalid syntax\n"
       ]
      }
     ],
     "prompt_number": 12
    },
    {
     "cell_type": "markdown",
     "metadata": {},
     "source": [
      "* une variable doit \u00eatre initialis\u00e9e avant d'\u00eatre utilis\u00e9e,"
     ]
    },
    {
     "cell_type": "code",
     "collapsed": false,
     "input": [
      "z = 10\n",
      "z = Z + 1\n",
      "print z"
     ],
     "language": "python",
     "metadata": {},
     "outputs": [
      {
       "ename": "NameError",
       "evalue": "name 'Z' is not defined",
       "output_type": "pyerr",
       "traceback": [
        "\u001b[1;31m---------------------------------------------------------------------------\u001b[0m\n\u001b[1;31mNameError\u001b[0m                                 Traceback (most recent call last)",
        "\u001b[1;32m<ipython-input-13-6730afc049a0>\u001b[0m in \u001b[0;36m<module>\u001b[1;34m()\u001b[0m\n\u001b[0;32m      1\u001b[0m \u001b[0mz\u001b[0m \u001b[1;33m=\u001b[0m \u001b[1;36m10\u001b[0m\u001b[1;33m\u001b[0m\u001b[0m\n\u001b[1;32m----> 2\u001b[1;33m \u001b[0mz\u001b[0m \u001b[1;33m=\u001b[0m \u001b[0mZ\u001b[0m \u001b[1;33m+\u001b[0m \u001b[1;36m1\u001b[0m\u001b[1;33m\u001b[0m\u001b[0m\n\u001b[0m\u001b[0;32m      3\u001b[0m \u001b[1;32mprint\u001b[0m \u001b[0mz\u001b[0m\u001b[1;33m\u001b[0m\u001b[0m\n",
        "\u001b[1;31mNameError\u001b[0m: name 'Z' is not defined"
       ]
      }
     ],
     "prompt_number": 13
    },
    {
     "cell_type": "markdown",
     "metadata": {},
     "source": [
      "* une variable est associ\u00e9e \u00e0 une adresse m\u00e9moire o\u00f9 se trouve effectivement stock\u00e9 sa valeur, ainsi qu'\u00e0 un type de donn\u00e9es"
     ]
    },
    {
     "cell_type": "code",
     "collapsed": false,
     "input": [
      "x = 5.8\n",
      "print \"x=\",x,\" adresse \",id(x),\" type \",type(x)\n",
      "y = 1\n",
      "print \"y=\",y,\" adresse \",id(y),\" type \",type(y)\n",
      "s = \"mon 'texte'\"\n",
      "print \"s=\",s,\" adresse \",id(s),\" type \",type(s)"
     ],
     "language": "python",
     "metadata": {},
     "outputs": [
      {
       "output_type": "stream",
       "stream": "stdout",
       "text": [
        "x= 5.8  adresse  49512128  type  <type 'float'>\n",
        "y= 1  adresse  42078616  type  <type 'int'>\n",
        "s= mon 'texte'  adresse  140542873905072  type  <type 'str'>\n"
       ]
      }
     ],
     "prompt_number": 14
    },
    {
     "cell_type": "markdown",
     "metadata": {},
     "source": [
      "* **Attention** type de la variable = type expression"
     ]
    },
    {
     "cell_type": "code",
     "collapsed": false,
     "input": [
      "x = 2/3\n",
      "print x , type(x)\n",
      "x = 2./3.\n",
      "print x , type(x)"
     ],
     "language": "python",
     "metadata": {},
     "outputs": [
      {
       "output_type": "stream",
       "stream": "stdout",
       "text": [
        "0 <type 'int'>\n",
        "0.666666666667 <type 'float'>\n"
       ]
      }
     ],
     "prompt_number": 15
    },
    {
     "cell_type": "markdown",
     "metadata": {},
     "source": [
      "* **Attention** le symbole = repr\u00e9sente l'affectation, et non l'\u00e9galit\u00e9 math\u00e9matique.\n",
      "\n",
      "$x=x^2 + 0.25 \\ \\Longleftrightarrow\\  (x-0.5)^2=0 \\ \\Longleftrightarrow\\  x=0.5$"
     ]
    },
    {
     "cell_type": "code",
     "collapsed": false,
     "input": [
      "x = 2.\n",
      "x = x*x + 0.25\n",
      "print \"x=\",x"
     ],
     "language": "python",
     "metadata": {},
     "outputs": [
      {
       "output_type": "stream",
       "stream": "stdout",
       "text": [
        "x= 4.25\n"
       ]
      }
     ],
     "prompt_number": 16
    },
    {
     "cell_type": "markdown",
     "metadata": {},
     "source": [
      "## <a href=\"#ici024\">Exercice 2</a><a id=\"ici024\"></a>\n",
      "\n",
      "Ecrire un programme Python qui affiche la table de multiplication d'un nombre n\n",
      "\n",
      "    Table de multiplication de n=7\n",
      "    7 14 21 28 35 42 49 56 63 70"
     ]
    },
    {
     "cell_type": "markdown",
     "metadata": {},
     "source": [
      "### Correction exercice"
     ]
    },
    {
     "cell_type": "code",
     "collapsed": false,
     "input": [
      "n = 12\n",
      "print \"Table de multiplication de \",n\n",
      "print n, 2*n, 3*n, 4*n, 5*n, 6*n, 7*n, 8*n, 9*n, 10*n"
     ],
     "language": "python",
     "metadata": {},
     "outputs": [
      {
       "output_type": "stream",
       "stream": "stdout",
       "text": [
        "Table de multiplication de  12\n",
        "12 24 36 48 60 72 84 96 108 120\n"
       ]
      }
     ],
     "prompt_number": 17
    },
    {
     "cell_type": "markdown",
     "metadata": {},
     "source": [
      "<a href=\"#sommaire\"><img style=\" float:left\" src=\"files/go-home.png\"></a><a href=\"#fonctions_math\"><img style=\" float:center\" src=\"files/go-next.png\"> </a>"
     ]
    },
    {
     "cell_type": "markdown",
     "metadata": {},
     "source": [
      "# <a href=\"#fonctions_math\">Fonctions math\u00e9matiques</a><a id=\"fonctions_math\"></a>\n",
      "\n",
      "Biblioth\u00e8ques de fonctions math\u00e9matiques: \n",
      "\n",
      "- fonctions **puissances**: sqrt(x)=$\\sqrt{x}$, power(x,y)=$x^y$\n",
      "- fonctions **trigonom\u00e9triques** (x angle en radian): sin(x), cos(x), tan(x), asin(y), acos(y), atan(y)\n",
      "- **logarithme** log(x), log10(x), exp(x) \n",
      "- fonctions **hyperboliques**: sinh(x), cosh(x), tanh(x), asinh(x), acosh(x), atanh(x)\n",
      "- constantes math\u00e9matiques: **pi** $=\\pi$ et **e** $=exp(1)$\n",
      "- op\u00e9rateurs math\u00e9matiques: + , - , \\* , / , //,  \\*\\* , %\n",
      " - ** x\\*\\*n $ = x^n$ ** \u00e9l\u00e9vation \u00e0 une puissance enti\u00e8re\n",
      " - ** p%q = r ** modulo ou reste de la division enti\u00e8re $p = n q + r$\n",
      " - ** // ** division enti\u00e8re\n",
      "- avec des op\u00e9rateurs d'affectation: += , -= , *= , /=\n",
      "\n",
      "2 biblioth\u00e9ques math\u00e9matiques disponible sous python:\n",
      "\n",
      "- **math** (module de base sous python )\n",
      "- **numpy** (module optionnel, mais indispensable en calcul scientifique)\n",
      "\n",
      "utilisation avec **import**\n",
      "\n",
      "    import numpy as np \n"
     ]
    },
    {
     "cell_type": "code",
     "collapsed": false,
     "input": [
      "import numpy as np\n",
      "x = 1.0\n",
      "print np.cos(x*np.pi), np.exp(x), np.log(x), np.tanh(x) "
     ],
     "language": "python",
     "metadata": {},
     "outputs": [
      {
       "output_type": "stream",
       "stream": "stdout",
       "text": [
        "-1.0 2.71828182846 0.0 0.761594155956\n"
       ]
      }
     ],
     "prompt_number": 18
    },
    {
     "cell_type": "markdown",
     "metadata": {},
     "source": [
      "## <a href=\"#ici025\">Exercise 3</a><a id=\"ici025\"></a>\n",
      "\n",
      "Ecrire un programme python pour calculer la valeur de la formule math\u00e9matique suivante:\n",
      "\n",
      "$$ y = \\sqrt{\\log(1+x^2)+\\frac{x^{\\sin(2\\pi*x)}}{\\tanh(2.)}}$$"
     ]
    },
    {
     "cell_type": "markdown",
     "metadata": {},
     "source": [
      "### Solution\n",
      "\n",
      "**attention aux parenth\u00e9ses !!!**"
     ]
    },
    {
     "cell_type": "code",
     "collapsed": false,
     "input": [
      "x = 2.0\n",
      "y1 = np.sqrt(np.log(1+x**2)+np.power(x,np.sin(2*np.pi*x))/np.tanh(2.))\n",
      "y2 = np.sqrt(np.log(1+x**2)+np.power(x,np.sin(2*np.pi*x)))/np.tanh(2.)\n",
      "print x,y1,y2"
     ],
     "language": "python",
     "metadata": {},
     "outputs": [
      {
       "output_type": "stream",
       "stream": "stdout",
       "text": [
        "2.0 1.62688433306 1.67565275561\n"
       ]
      }
     ],
     "prompt_number": 19
    },
    {
     "cell_type": "markdown",
     "metadata": {},
     "source": [
      "<a href=\"#sommaire\"><img style=\" float:left\" src=\"files/go-home.png\"></a><a href=\"#liste\"><img style=\" float:center\" src=\"files/go-next.png\"> </a>"
     ]
    },
    {
     "cell_type": "markdown",
     "metadata": {},
     "source": [
      "#<a href=\"#liste\">Les listes</a><a id=\"liste\"></a>\n",
      "**Liste: **  ensemble ordonn\u00e9 d'\u00e9l\u00e9ments accessible \u00e0 partir d'un indice\n",
      "\n",
      "*structure de donn\u00e9es plus g\u00e9n\u00e9rale qu'un tableau*\n",
      "\n",
      "- les \u00e9l\u00e9ments peuvent etre de tous du m\u00eame type ou de type diff\u00e9rent\n",
      "- la taille d'une liste peut varier (structure dynamique)\n",
      "        len(L)\n",
      "- on peut enlever, ins\u00e9rer ou ajouter des \u00e9l\u00e9ments dans la liste\n",
      "- structure de base sous Python \n",
      "        L = [elt1 , elt2, ...,eltn ]\n",
      "- i\u00e8me \u00e9l\u00e9ment de la liste (**indice \u00e0 partir de 0** )\n",
      "        L[i-1]\n",
      "- liste non modifiable (tuple ou n-uplet)\n",
      "        L = (elt1 , elt2, ...,eltn )    \n",
      "- liste de n entiers \u00e0 partir de 0 \n",
      "        L = range(n )\n",
      "- on peut utiliser des listes pour repr\u00e9senter des vecteurs ou des matrices\n",
      "- **ATTENTION** c'est en g\u00e9n\u00e9ral in\u00e9fficace\n",
      "\n",
      "## <a href=\"#ici032\">Exemples</a><a id=\"ici032\"/>"
     ]
    },
    {
     "cell_type": "code",
     "collapsed": false,
     "input": [
      "L=[1.,2,3,4.]\n",
      "print type(L)\n",
      "print type(L[0]),type(L[1])\n",
      "L.append(\"cinq\")\n",
      "print L\n",
      "L.insert(1,8.)\n",
      "print L\n",
      "del L[5]\n",
      "print L"
     ],
     "language": "python",
     "metadata": {},
     "outputs": [
      {
       "output_type": "stream",
       "stream": "stdout",
       "text": [
        "<type 'list'>\n",
        "<type 'float'> <type 'int'>\n",
        "[1.0, 2, 3, 4.0, 'cinq']\n",
        "[1.0, 8.0, 2, 3, 4.0, 'cinq']\n",
        "[1.0, 8.0, 2, 3, 4.0]\n"
       ]
      }
     ],
     "prompt_number": 20
    },
    {
     "cell_type": "markdown",
     "metadata": {},
     "source": [
      "<a href=\"#sommaire\"><img style=\" float:left\" src=\"files/go-home.png\"></a><a href=\"#dictionnaire\"><img style=\" float:center\" src=\"files/go-next.png\"> </a>"
     ]
    },
    {
     "cell_type": "markdown",
     "metadata": {},
     "source": [
      "#<a href=\"#dictionnaire\">Les dictionnaires</a> <a id=\"dictionnaire\"></a>\n",
      "\n",
      "**dictionnaire:** ensemble de donn\u00e9es accessible \u00e0 partir d'une **cl\u00e9** (nom) (au lieu d'un indice)\n",
      "\n",
      "    dict = { 'cle1':val1 , 'cle2':val2, ....}\n",
      "    dict['cle1']\n",
      "##exemple"
     ]
    },
    {
     "cell_type": "code",
     "collapsed": false,
     "input": [
      "french = { 'is':'est', 'my':'mon', 'nobody':'personne', \n",
      "           'name':'nom',' your':'ton'}\n",
      "print \"cl\u00e9s du dictionnaire \",french.keys()\n",
      "L = ['my','name','is','nobody']\n",
      "print \"phrase \u00e0 traduire: \",L\n",
      "print \"traduction       : \",french[L[0]],french[L[1]],french[L[2]],french[L[3]]"
     ],
     "language": "python",
     "metadata": {},
     "outputs": [
      {
       "output_type": "stream",
       "stream": "stdout",
       "text": [
        "cl\u00e9s du dictionnaire  [' your', 'is', 'nobody', 'my', 'name']\n",
        "phrase \u00e0 traduire:  ['my', 'name', 'is', 'nobody']\n",
        "traduction       :  mon nom est personne\n"
       ]
      }
     ],
     "prompt_number": 21
    },
    {
     "cell_type": "markdown",
     "metadata": {},
     "source": [
      "<a href=\"#sommaire\"><img style=\" float:left\" src=\"files/go-home.png\"></a><a href=\"#fin\"><img style=\" float:center\" src=\"files/go-next.png\"> </a>"
     ]
    },
    {
     "cell_type": "markdown",
     "metadata": {},
     "source": [
      "\n"
     ]
    },
    {
     "cell_type": "markdown",
     "metadata": {},
     "source": [
      "#<a href=\"#fin\">Fin de la le\u00e7on</a><a id=\"fin\"/>\n",
      "<div style=\"width:600px; overflow:auto;\">\n",
      "<center>\n",
      "<a href=\"#sommaire\"><img style=\" float:center; display:inline; width:180px;\" src=\"files/logo_trans.png\" alt=\"LyonHPC\" /></a>\n",
      "<img style=\" float:center; display:inline; width:200px;\" src=\"files/python-logo.gif\" alt=\"LyonHPC\"/>\n",
      "</center>\n",
      "</div>\n",
      "<img src=\"files/cloud_sommaire.png\" style=\"width:300px\">"
     ]
    }
   ],
   "metadata": {}
  }
 ]
}