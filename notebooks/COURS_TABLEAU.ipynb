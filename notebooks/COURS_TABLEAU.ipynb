{
 "metadata": {
  "name": "",
  "signature": "sha256:7e743852dba7874db12b5e3f559b0a5345167349e3c2a0789611ec966a2ca07e"
 },
 "nbformat": 3,
 "nbformat_minor": 0,
 "worksheets": [
  {
   "cells": [
    {
     "cell_type": "markdown",
     "metadata": {},
     "source": [
      "# <a href=\"http://ipython.org/notebook.html\">Ipython notebook : </a> cours <a href=\"..\">INPROS</a> <a href=\"http://inpros.univ-lyon1.fr\"><img style=\" float:right; display:inline; width:120px;\" src=\"Figures/logo_trans.png\" alt=\"LyonHPC\" /></a>\n",
      "<h5>\n",
      "**Auteur: ** <a href=\"http://ufrmeca.univ-lyon1.fr/~buffat\">Marc BUFFAT</a>, Pr dpt de M\u00e9canique, UCB Lyon 1\n",
      "\n",
      "**Contributeurs: ** Violaine Louvet, Michel Kern, Loic Gouarin, Laurence Viry\n",
      "</h5>\n",
      "<h6>\n",
      "<a rel=\"license\" href=\"http://creativecommons.org/licenses/by-nc-sa/2.0/fr/\"><img alt=\"Licence Creative Commons\" style=\"border-width:0;float:right;\" src=\"Figures/cc.png\" /></a><br />Mise \u00e0 disposition selon les termes de la <a rel=\"license\" href=\"http://creativecommons.org/licenses/by-nc-sa/2.0/fr/\">Licence Creative Commons <br> Attribution - Pas d\u2019Utilisation Commerciale - Partage dans les M\u00eames Conditions 2.0 France</a>.\n",
      "</h6>"
     ]
    },
    {
     "cell_type": "code",
     "collapsed": false,
     "input": [
      "%matplotlib inline\n",
      "%autosave 300\n",
      "import numpy as np\n",
      "from IPython.display import HTML,display\n",
      "css_file = 'style.css'\n",
      "try:\n",
      "    display(HTML(open(css_file, \"r\").read()))\n",
      "    print \"using \",css_file\n",
      "except :\n",
      "    print \"using default css\""
     ],
     "language": "python",
     "metadata": {},
     "outputs": [
      {
       "javascript": [
        "IPython.notebook.set_autosave_interval(300000)"
       ],
       "metadata": {},
       "output_type": "display_data"
      },
      {
       "output_type": "stream",
       "stream": "stdout",
       "text": [
        "Autosaving every 300 seconds\n"
       ]
      },
      {
       "html": [
        "<link href='http://fonts.googleapis.com/css?family=Alegreya+Sans:100,300,400,500,700,800,900,100italic,300italic,400italic,500italic,700italic,800italic,900italic' rel='stylesheet' type='text/css'>\n",
        "<link href='http://fonts.googleapis.com/css?family=Arvo:400,700,400italic' rel='stylesheet' type='text/css'>\n",
        "<link href='http://fonts.googleapis.com/css?family=PT+Mono' rel='stylesheet' type='text/css'>\n",
        "<link href='http://fonts.googleapis.com/css?family=Shadows+Into+Light' rel='stylesheet' type='text/css'>\n",
        "<link href='http://fonts.googleapis.com/css?family=Nixie+One' rel='stylesheet' type='text/css'>\n",
        "<style>\n",
        "\n",
        "@font-face {\n",
        "    font-family: \"Computer Modern\";\n",
        "    src: url('http://mirrors.ctan.org/fonts/cm-unicode/fonts/otf/cmunss.otf');\n",
        "}\n",
        "\n",
        "#notebook_panel { /* main background */\n",
        "    background: rgb(245,245,245);\n",
        "}\n",
        "\n",
        "div.cell { /* set cell width */\n",
        "    width: 850px;\n",
        "}\n",
        "\n",
        "\n",
        "div #notebook { /* centre the content */\n",
        "    background: #fff; /* white background for content */\n",
        "    width: 1000px;\n",
        "    margin: auto;\n",
        "    padding-left: 0em;\n",
        "}\n",
        "\n",
        "#notebook li { /* More space between bullet points */\n",
        "margin-top:0.8em;\n",
        "}\n",
        "\n",
        "div.text_cell_render a:link {\n",
        "\ttext-decoration:none;\n",
        "}\n",
        "\n",
        "/* draw border around running cells */\n",
        "div.cell.border-box-sizing.code_cell.running { \n",
        "    border: 1px solid #111;\n",
        "}\n",
        "\n",
        "/* Put a solid color box around each cell and its output, visually linking them*/\n",
        "div.cell.code_cell {\n",
        "    background-color: rgb(256,256,256); \n",
        "    border-radius: 0px; \n",
        "    padding: 0.5em;\n",
        "    margin-left:1em;\n",
        "    margin-top: 1em;\n",
        "}\n",
        "\n",
        "div.text_cell_render{\n",
        "    font-family: 'Alegreya Sans' sans-serif;\n",
        "    line-height: 140%;\n",
        "    font-size: 125%;\n",
        "    font-weight: 400;\n",
        "    width:700px;\n",
        "    margin-left:auto;\n",
        "    margin-right:auto;\n",
        "}\n",
        "\n",
        "\n",
        "/* Formatting for header cells */\n",
        ".text_cell_render h1 {\n",
        "    font-family: 'Nixie One', serif;\n",
        "    font-style:regular;\n",
        "    font-weight: 400;    \n",
        "    font-size: 45pt;\n",
        "    line-height: 100%;\n",
        "    color: rgb(0,51,102);\n",
        "    margin-bottom: 0.5em;\n",
        "    margin-top: 0.5em;\n",
        "    display: block;\n",
        "}\t\n",
        ".text_cell_render h2 {\n",
        "    font-family: 'Nixie One', serif;\n",
        "    font-weight: 400;\n",
        "    font-size: 30pt;\n",
        "    line-height: 100%;\n",
        "    color: rgb(0,51,102);\n",
        "    margin-bottom: 0.1em;\n",
        "    margin-top: 0.3em;\n",
        "    display: block;\n",
        "}\t\n",
        "\n",
        ".text_cell_render h3 {\n",
        "    font-family: 'Nixie One', serif;\n",
        "    margin-top:16px;\n",
        "\tfont-size: 22pt;\n",
        "    font-weight: 600;\n",
        "    margin-bottom: 3px;\n",
        "    font-style: regular;\n",
        "    color: rgb(102,102,0);\n",
        "}\n",
        "\n",
        ".text_cell_render h4 {    /*Use this for captions*/\n",
        "    font-family: 'Nixie One', serif;\n",
        "    font-size: 14pt;\n",
        "    text-align: center;\n",
        "    margin-top: 0em;\n",
        "    margin-bottom: 2em;\n",
        "    font-style: regular;\n",
        "}\n",
        "\n",
        ".text_cell_render h5 {  /*Use this for small titles ou TOC*/\n",
        "    font-family: 'Nixie One', sans-serif;\n",
        "    font-weight: 400;\n",
        "    font-size: 16pt;\n",
        "    color: rgb(163,0,0);\n",
        "    font-style: italic;\n",
        "    margin-bottom: .1em;\n",
        "    margin-top: 0.8em;\n",
        "    display: block;\n",
        "}\n",
        "\n",
        ".text_cell_render h6 { /*use this for copyright note*/\n",
        "    font-family: 'PT Mono', sans-serif;\n",
        "    font-weight: 300;\n",
        "    font-size: 9pt;\n",
        "    line-height: 100%;\n",
        "    color: grey;\n",
        "    margin-bottom: 1px;\n",
        "    margin-top: 1px;\n",
        "}\n",
        "\n",
        ".CodeMirror{\n",
        "        font-family: \"PT Mono\";\n",
        "        font-size: 90%;\n",
        "}\n",
        "\n",
        "</style>\n",
        "<script>\n",
        "    MathJax.Hub.Config({\n",
        "                        TeX: {\n",
        "                           extensions: [\"AMSmath.js\"],\n",
        "                           equationNumbers: { autoNumber: \"AMS\", useLabelIds: true}\n",
        "                           },\n",
        "                tex2jax: {\n",
        "                    inlineMath: [ ['$','$'], [\"\\\\(\",\"\\\\)\"] ],\n",
        "                    displayMath: [ ['$$','$$'], [\"\\\\[\",\"\\\\]\"] ]\n",
        "                },\n",
        "                displayAlign: 'center', // Change this to 'center' to center equations.\n",
        "                \"HTML-CSS\": {\n",
        "                    styles: {'.MathJax_Display': {\"margin\": 4}}\n",
        "                }\n",
        "        });\n",
        "</script>\n"
       ],
       "metadata": {},
       "output_type": "display_data",
       "text": [
        "<IPython.core.display.HTML at 0x7fbd4a544510>"
       ]
      },
      {
       "output_type": "stream",
       "stream": "stdout",
       "text": [
        "using  style.css\n"
       ]
      }
     ],
     "prompt_number": 1
    },
    {
     "cell_type": "heading",
     "level": 1,
     "metadata": {},
     "source": [
      "<a href=\"#ici000\">Les tableaux (vecteur, matrice)</a><a name=\"ici000\"></a>"
     ]
    },
    {
     "cell_type": "markdown",
     "metadata": {},
     "source": [
      "<div style=\"width:600px; overflow:auto;\">\n",
      "<center>\n",
      "<a href=\"#sommaire\"><img style=\" float:center; display:inline; width:180px;\" src=\"Figures/logo_trans.png\" alt=\"LyonHPC\" /></a>\n",
      "<img style=\" float:center; display:inline; width:200px;\" src=\"Figures/python-logo.gif\" alt=\"LyonHPC\"/>\n",
      "</center>\n",
      "</div>\n",
      "\n",
      "<img src=\"Figures/numpy_array.png\" style=\"float:left; width:300px\" />"
     ]
    },
    {
     "cell_type": "markdown",
     "metadata": {},
     "source": [
      "#<a href=\"#sommaire\">Contenu de la le\u00e7on</a><a name=\"sommaire\"></a><a href=\"http://localhost:8888/notebooks/Plan.ipynb\"><img style=\" float:right; display:inline; width:120px;\" src=\"Figures/logo_trans.png\" alt=\"LyonHPC\" /></a>\n",
      "<h5>\n",
      "1. <a href=\"#tableau_1D\">Les tableaux 1D</a>\n",
      " 1. <a href=\"#tableau_python\">Tableaux num\u00e9riques en Python</a>\n",
      " 2. <a href=\"#manip_tableau\">Manipulation de tableaux 1D en Python</a>\n",
      "2. <a href=\"#tableau_2D\">Les tableaux 2D</a>\n",
      " 1. <a href=\"#tableau_2Dpython\">Matrices en Python</a>\n",
      " 2. <a href=\"#exemple2\">Exemple: produit matrice-vecteur</a>\n",
      "5. <a href=\"#forpython\">Boucle en Python sur les tableaux</a>\n",
      "6. <a href=\"#matlab\">Notation matricielle \u00e0 la Matlab</a>"
     ]
    },
    {
     "cell_type": "markdown",
     "metadata": {},
     "source": [
      "#<a href=\"#tableau_1D\">Tableau 1D</a><a id=\"tableau_1D\"></a>\n",
      "\n",
      "structure de donn\u00e9es pour repr\u00e9senter un vecteur \n",
      "\n",
      "**tableau 1D** : liste de n \u00e9l\u00e9ments du m\u00eame type (entier ou r\u00e9el)\n",
      "(n = dimension du tableau)\n",
      "\n",
      "- en math\u00e9matique: $\\mathbf{X} \\in \\mathcal{R}^n $ \n",
      "- en algorithmique:  X tableau de n r\u00e9els (contenant les composantes de X)\n",
      "\n",
      "**\u00e9l\u00e9ment d'un tableau** : X[i] $\\equiv\\mathbf{X}_{i+1}$ \n",
      "\n",
      "**attention**  on compte \u00e0 partir de 0, donc i varie de 0 \u00e0 n-1 \n",
      "\n",
      "## <a href=\"#ici001\">Exemple: point dans l'espace</a><a name=\"ici001\"></a>\n",
      "le point **P** dans l'espace $\\mathcal{R}^3$ de coordonn\u00e9es cartesiennes:\n",
      "$$ \\mathbf{OP}=\\left[\\begin{array}{c}\n",
      "1.\\\\\n",
      "3.\\\\\n",
      "-0.5\n",
      "\\end{array}\\right]\n",
      "$$\n",
      "est repr\u00e9sent\u00e9 par un tableau de r\u00e9els de dimension 3, tel que:\n",
      "\n",
      "P=[1.,3.,5.] (i.e. P[0]=1., P[1]=3.0, P[2]=5.0)"
     ]
    },
    {
     "cell_type": "markdown",
     "metadata": {},
     "source": [
      "##<a href=\"#tableau_python\">Tableau num\u00e9rique sous Python</a><a id=\"tableau_python\"></a>\n",
      "\n",
      "- plusieurs structures de donn\u00e9es possible (list, array, ..)\n",
      "- mais on utilisera essentiellement la structure **array** de la biblioth\u00e9que **numpy**\n"
     ]
    },
    {
     "cell_type": "code",
     "collapsed": false,
     "input": [
      "import numpy as np\n",
      "P = np.array([1., 3., 5.])\n",
      "print P\n",
      "print type(P)\n",
      "print P.size\n",
      "print P[1]\n",
      "print type(P[1])"
     ],
     "language": "python",
     "metadata": {},
     "outputs": [
      {
       "output_type": "stream",
       "stream": "stdout",
       "text": [
        "[ 1.  3.  5.]\n",
        "<type 'numpy.ndarray'>\n",
        "3\n",
        "3.0\n",
        "<type 'numpy.float64'>\n"
       ]
      }
     ],
     "prompt_number": 2
    },
    {
     "cell_type": "markdown",
     "metadata": {},
     "source": [
      "### <a href=\"#ici002\">visualisation de l'execution</a><a name=\"ici002\"></a>"
     ]
    },
    {
     "cell_type": "code",
     "collapsed": false,
     "input": [
      "HTML('<iframe width=\"800\" height=\"350\" frameborder=\"0\" src=\"http://pythontutor.com/iframe-embed.html#code=P%3D%5B1.,3.,5.%5D%0Ax%3DP%5B2%5D%0Ay%3D(P%5B0%5D%2BP%5B1%5D%2BP%5B2%5D)/3%0Az%3DP%5B3%5D&cumulative=false&heapPrimitives=false&drawParentPointers=false&textReferences=false&showOnlyOutputs=false&py=2&curInstr=4&codeDivWidth=350&codeDivHeight=400\"> </iframe>')"
     ],
     "language": "python",
     "metadata": {},
     "outputs": [
      {
       "html": [
        "<iframe width=\"800\" height=\"350\" frameborder=\"0\" src=\"http://pythontutor.com/iframe-embed.html#code=P%3D%5B1.,3.,5.%5D%0Ax%3DP%5B2%5D%0Ay%3D(P%5B0%5D%2BP%5B1%5D%2BP%5B2%5D)/3%0Az%3DP%5B3%5D&cumulative=false&heapPrimitives=false&drawParentPointers=false&textReferences=false&showOnlyOutputs=false&py=2&curInstr=4&codeDivWidth=350&codeDivHeight=400\"> </iframe>"
       ],
       "metadata": {},
       "output_type": "pyout",
       "prompt_number": 3,
       "text": [
        "<IPython.core.display.HTML at 0x7fbd652a3150>"
       ]
      }
     ],
     "prompt_number": 3
    },
    {
     "cell_type": "markdown",
     "metadata": {},
     "source": [
      "## <a href=\"#ici003\">Indice d'un tableau</a><a name=\"ici003\"></a>\n",
      "\n",
      "**attention** pour un tableau de dimension n : indice $0 \\le i \\lt n$"
     ]
    },
    {
     "cell_type": "code",
     "collapsed": false,
     "input": [
      "print P[2]\n",
      "print P[3]"
     ],
     "language": "python",
     "metadata": {},
     "outputs": [
      {
       "output_type": "stream",
       "stream": "stdout",
       "text": [
        "5.0\n"
       ]
      },
      {
       "ename": "IndexError",
       "evalue": "index out of bounds",
       "output_type": "pyerr",
       "traceback": [
        "\u001b[1;31m---------------------------------------------------------------------------\u001b[0m\n\u001b[1;31mIndexError\u001b[0m                                Traceback (most recent call last)",
        "\u001b[1;32m<ipython-input-4-b79e06eb37c1>\u001b[0m in \u001b[0;36m<module>\u001b[1;34m()\u001b[0m\n\u001b[0;32m      1\u001b[0m \u001b[1;32mprint\u001b[0m \u001b[0mP\u001b[0m\u001b[1;33m[\u001b[0m\u001b[1;36m2\u001b[0m\u001b[1;33m]\u001b[0m\u001b[1;33m\u001b[0m\u001b[0m\n\u001b[1;32m----> 2\u001b[1;33m \u001b[1;32mprint\u001b[0m \u001b[0mP\u001b[0m\u001b[1;33m[\u001b[0m\u001b[1;36m3\u001b[0m\u001b[1;33m]\u001b[0m\u001b[1;33m\u001b[0m\u001b[0m\n\u001b[0m",
        "\u001b[1;31mIndexError\u001b[0m: index out of bounds"
       ]
      }
     ],
     "prompt_number": 4
    },
    {
     "cell_type": "markdown",
     "metadata": {},
     "source": [
      "## <a href=\"#manip_tableau\">Manipulation de tableaux 1D en Python</a><a id=\"manip_tableau\"></a>\n",
      "### cr\u00e9ation d'un tableau\n",
      "\n",
      "- \u00e0 partir d'une liste (entre [ ]):  ** array(liste) ** \n",
      "- dimension = nbre d'\u00e9l\u00e9ments de la liste\n",
      "- type = type des \u00e9l\u00e8ments de la liste"
     ]
    },
    {
     "cell_type": "code",
     "collapsed": false,
     "input": [
      "Q = np.array([1., 2.])\n",
      "print Q[0], type(Q[0])\n",
      "I = np.array([1, 2])\n",
      "print I[0], type(I[0])"
     ],
     "language": "python",
     "metadata": {},
     "outputs": [
      {
       "output_type": "stream",
       "stream": "stdout",
       "text": [
        "1.0 <type 'numpy.float64'>\n",
        "1 <type 'numpy.int64'>\n"
       ]
      }
     ],
     "prompt_number": 5
    },
    {
     "cell_type": "markdown",
     "metadata": {},
     "source": [
      "### <a href=\"#ici010\">tableaux particuliers</a><a name=\"ici010\"></a>\n",
      "\n",
      "- tableau de  0.0 ou de 1.0 : **zeros(n)** ou **ones(n)**  ( n dimension)\n",
      "- tableau de n valeurs non initialis\u00e9es (attention !!!): **empty(n)**\n"
     ]
    },
    {
     "cell_type": "code",
     "collapsed": false,
     "input": [
      "X = np.zeros(5)\n",
      "print X\n",
      "Y = np.ones(3)\n",
      "print Y\n",
      "Z = np.empty(3)\n",
      "print Z"
     ],
     "language": "python",
     "metadata": {},
     "outputs": [
      {
       "output_type": "stream",
       "stream": "stdout",
       "text": [
        "[ 0.  0.  0.  0.  0.]\n",
        "[ 1.  1.  1.]\n",
        "[  6.93923074e-310   2.11214803e-316   1.58101007e-322]\n"
       ]
      }
     ],
     "prompt_number": 6
    },
    {
     "cell_type": "markdown",
     "metadata": {},
     "source": [
      "- <a href=\"#ici011\">tableau de liste de valeurs:</a><a name=\"ici011\"></a> **arange(debut, fin, pas)**"
     ]
    },
    {
     "cell_type": "code",
     "collapsed": false,
     "input": [
      "print np.arange(0, 10, 1)\n",
      "print np.array(range(10))\n",
      "print np.arange(0., 10., 1.5)"
     ],
     "language": "python",
     "metadata": {},
     "outputs": [
      {
       "output_type": "stream",
       "stream": "stdout",
       "text": [
        "[0 1 2 3 4 5 6 7 8 9]\n",
        "[0 1 2 3 4 5 6 7 8 9]\n",
        "[ 0.   1.5  3.   4.5  6.   7.5  9. ]\n"
       ]
      }
     ],
     "prompt_number": 7
    },
    {
     "cell_type": "markdown",
     "metadata": {},
     "source": [
      "- <a href=\"#ici012\">intervalle:</a><a name=\"ici012\"></a> **linspace(debut, fin, nbre d'\u00e9l\u00e9ments)**"
     ]
    },
    {
     "cell_type": "code",
     "collapsed": false,
     "input": [
      "print np.linspace(0, 10, 11)\n",
      "print np.linspace(0, 10, 3)"
     ],
     "language": "python",
     "metadata": {},
     "outputs": [
      {
       "output_type": "stream",
       "stream": "stdout",
       "text": [
        "[  0.   1.   2.   3.   4.   5.   6.   7.   8.   9.  10.]\n",
        "[  0.   5.  10.]\n"
       ]
      }
     ],
     "prompt_number": 8
    },
    {
     "cell_type": "markdown",
     "metadata": {},
     "source": [
      "- valeurs al\u00e9atoires: **random.rand(nbre)**"
     ]
    },
    {
     "cell_type": "code",
     "collapsed": false,
     "input": [
      "print np.random.rand(5)"
     ],
     "language": "python",
     "metadata": {},
     "outputs": [
      {
       "output_type": "stream",
       "stream": "stdout",
       "text": [
        "[ 0.30653898  0.26703538  0.95945801  0.45260628  0.66779301]\n"
       ]
      }
     ],
     "prompt_number": 9
    },
    {
     "cell_type": "markdown",
     "metadata": {},
     "source": [
      "- <a href=\"#ici013\">liste de compr\u00e9hension</a><a name=\"ici013\"></a> **[ exp for i in range(n) ]**"
     ]
    },
    {
     "cell_type": "code",
     "collapsed": false,
     "input": [
      "X = np.array([i*i for i in range(5)])\n",
      "print X"
     ],
     "language": "python",
     "metadata": {},
     "outputs": [
      {
       "output_type": "stream",
       "stream": "stdout",
       "text": [
        "[ 0  1  4  9 16]\n"
       ]
      }
     ],
     "prompt_number": 10
    },
    {
     "cell_type": "markdown",
     "metadata": {},
     "source": [
      "- sp\u00e9cification du type des \u00e9l\u00e9ments du tableau: argument **dtype** (int,float,..) "
     ]
    },
    {
     "cell_type": "code",
     "collapsed": false,
     "input": [
      "I = np.zeros(3, dtype=int)\n",
      "print I\n",
      "print type(I), type(I[0])"
     ],
     "language": "python",
     "metadata": {},
     "outputs": [
      {
       "output_type": "stream",
       "stream": "stdout",
       "text": [
        "[0 0 0]\n",
        "<type 'numpy.ndarray'> <type 'numpy.int64'>\n"
       ]
      }
     ],
     "prompt_number": 11
    },
    {
     "cell_type": "markdown",
     "metadata": {},
     "source": [
      "### <a href=\"#ici015\">taille et \u00e9l\u00e9ment d'un tableau</a><a name=\"ici015\"></a>\n",
      "\n",
      "- nbre d'\u00e9l\u00e9ments du tableau X: **X.size** ou **len(X)** \n",
      "- taille du tableau X: **X.shape**"
     ]
    },
    {
     "cell_type": "code",
     "collapsed": false,
     "input": [
      "n = 5\n",
      "X = np.zeros(n)\n",
      "print X.size, len(X), X.shape"
     ],
     "language": "python",
     "metadata": {},
     "outputs": [
      {
       "output_type": "stream",
       "stream": "stdout",
       "text": [
        "5 5 (5,)\n"
       ]
      }
     ],
     "prompt_number": 12
    },
    {
     "cell_type": "markdown",
     "metadata": {},
     "source": [
      "- acc\u00e8s aux \u00e9l\u00e9ments: premier **X[0]**  et dernier **X[-1]** "
     ]
    },
    {
     "cell_type": "code",
     "collapsed": false,
     "input": [
      "X = np.arange(1., 2., 0.2)\n",
      "print X\n",
      "print X[0], X[-1]"
     ],
     "language": "python",
     "metadata": {},
     "outputs": [
      {
       "output_type": "stream",
       "stream": "stdout",
       "text": [
        "[ 1.   1.2  1.4  1.6  1.8]\n",
        "1.0 1.8\n"
       ]
      }
     ],
     "prompt_number": 13
    },
    {
     "cell_type": "markdown",
     "metadata": {},
     "source": [
      "- <a href=\"#ici017\">sous-tableau:</a><a name=\"ici017\"></a> **X[deb:fin:pas]**"
     ]
    },
    {
     "cell_type": "code",
     "collapsed": false,
     "input": [
      "X = np.arange(0, 10, 1)\n",
      "print X[:]\n",
      "print X[1:3]\n",
      "print X[::2]\n",
      "print X[1:-1]\n"
     ],
     "language": "python",
     "metadata": {},
     "outputs": [
      {
       "output_type": "stream",
       "stream": "stdout",
       "text": [
        "[0 1 2 3 4 5 6 7 8 9]\n",
        "[1 2]\n",
        "[0 2 4 6 8]\n",
        "[1 2 3 4 5 6 7 8]\n"
       ]
      }
     ],
     "prompt_number": 14
    },
    {
     "cell_type": "markdown",
     "metadata": {},
     "source": [
      "### <a href=\"#ici018\">aliasing et copie de tableau</a><a name=\"ici018\"></a>\n",
      "  - aliasing par d\u00e9faut: **Y=X** ne cr\u00e9e pas un nouveau tableau mais un alias\n",
      "    - de m\u00eame **Y=X[:]** (contrairement aux listes)\n",
      "  - copie explicite: **Y[:]=X[:]**\n",
      "    - ou ** Y = X.copy() **"
     ]
    },
    {
     "cell_type": "code",
     "collapsed": false,
     "input": [
      "X=np.zeros(2)\n",
      "Y=X\n",
      "Z=np.zeros(2)\n",
      "Z[:]=X[:]\n",
      "Y[0]=1\n",
      "Z[0]=2\n",
      "print \"X=\",X,\"Y=\",Y,\"Z=\",Z"
     ],
     "language": "python",
     "metadata": {},
     "outputs": [
      {
       "output_type": "stream",
       "stream": "stdout",
       "text": [
        "X= [ 1.  0.] Y= [ 1.  0.] Z= [ 2.  0.]\n"
       ]
      }
     ],
     "prompt_number": 15
    },
    {
     "cell_type": "markdown",
     "metadata": {},
     "source": [
      "### <a href=\"#ici020\">boucle sur les \u00e9l\u00e9ments d'un tableau</a><a name=\"ici020\"></a>\n",
      "\n",
      "boucle for : **for i in range(n): **"
     ]
    },
    {
     "cell_type": "code",
     "collapsed": false,
     "input": [
      "n = 5\n",
      "X = np.zeros(n)\n",
      "for i in range(n):\n",
      "    X[i] = i*i\n",
      "print X"
     ],
     "language": "python",
     "metadata": {},
     "outputs": [
      {
       "output_type": "stream",
       "stream": "stdout",
       "text": [
        "[  0.   1.   4.   9.  16.]\n"
       ]
      }
     ],
     "prompt_number": 16
    },
    {
     "cell_type": "markdown",
     "metadata": {},
     "source": [
      "<span style=\"display:block; padding-bottom:60px;\"></span>"
     ]
    },
    {
     "cell_type": "markdown",
     "metadata": {},
     "source": [
      "##<a href=\"#exemple1\">Exemple: produit scalaire</a><a id=\"exemple1\"></a>\n",
      "\n",
      "Calcul du produit scalaire **scal** de 2 vecteurs **X,Y**:\n",
      "$$ \\mathbf{X}\\in\\mathcal{R}^n , \\mathbf{Y}\\in\\mathcal{R}^n  \\ \\ scal =\\sum_{i=1}^{n} X_i Y_i$$\n",
      "Remarque si X=Y $\\rightarrow$ norme\n",
      "$$ ||\\mathbf{X}|| = \\sqrt{\\sum_{i=1}^{n} X_i^2}$$\n",
      "\n",
      "**<a href=\"#ici030\">Algorithme produit scalaire</a><a name=\"ici030\"></a>**\n",
      "\n",
      "    Algorithme ProdScal(X,Y)\n",
      "        n = dimension(X) (et Y)\n",
      "        scal=0\n",
      "        pour i de 0 a n-1\n",
      "            scal = scal + X[i]*Y[i]\n",
      "        fin pour\n",
      "        retour scal\n",
      "    \n",
      "**<a href=\"#ici031\">Programme Python produit scalaire</a><a name=\"ici031\"></a> **"
     ]
    },
    {
     "cell_type": "code",
     "collapsed": false,
     "input": [
      "def ProdScal(X,Y):\n",
      "    \"\"\" calcul le produit scalaire de 2 vecteurs \"\"\"\n",
      "    n=X.size\n",
      "    scal = 0\n",
      "    for i in range(n):\n",
      "        scal = scal + X[i]*Y[i]\n",
      "    return scal\n",
      "#\n",
      "X = np.random.rand(2)\n",
      "Y = np.random.rand(2)\n",
      "print \"X =\", X\n",
      "print \"Y =\", Y\n",
      "print \"X.Y =\", ProdScal(X,Y), ' ou', np.dot(X, Y)"
     ],
     "language": "python",
     "metadata": {},
     "outputs": [
      {
       "output_type": "stream",
       "stream": "stdout",
       "text": [
        "X = [ 0.93411889  0.94328359]\n",
        "Y = [ 0.95479929  0.04188256]\n",
        "X.Y = 0.931403182034  ou 0.931403182034\n"
       ]
      }
     ],
     "prompt_number": 17
    },
    {
     "cell_type": "markdown",
     "metadata": {},
     "source": [
      "##<a href=\"#exercices\">Exercices</a><a id=\"exercices\"></a>\n",
      "\n",
      "1. <a href=\"#exercice01\">Test de colin\u00e9arit\u00e9 de 2 vecteurs</a>\n",
      "\n",
      "3. <a href=\"#exercice02\">Normalisation d'un vecteur</a>\n",
      "\n"
     ]
    },
    {
     "cell_type": "markdown",
     "metadata": {},
     "source": [
      "###<a href=\"#exercice01\">Test de colin\u00e9arit\u00e9 de 2 vecteurs </a><a id=\"exercice01\"></a>\n",
      "\n",
      "$$\\mathbf{U} \\in \\mathcal{R}^n , \\mathbf{V} \\in \\mathcal{R}^n \\mbox{ si } \\left|\\mathbf{U}.\\mathbf{V}\\right| = \\left\\Vert\\mathbf{U}\\right\\Vert \\left\\Vert\\mathbf{V}\\right\\Vert \\mbox{ alors } \\mathbf{U} \\mbox{ et } \\mathbf{V} \\mbox{ sont colin\u00e9aires} $$\n",
      "\n",
      "Ecrire une fonction qui teste la colin\u00e9arit\u00e9\n",
      "\n",
      "        colineaire(U,V)\n",
      "        \n",
      "Attention \u00e0 la pr\u00e9cision"
     ]
    },
    {
     "cell_type": "markdown",
     "metadata": {},
     "source": [
      "<a href=\"#sommaire\"><img style=\" float:left\" src=\"Figures/go-home.png\"></a><a href=\"#exercice02\"><img style=\" float:center\" src=\"Figures/go-next.png\"> </a>"
     ]
    },
    {
     "cell_type": "markdown",
     "metadata": {},
     "source": [
      "### <a href=\"#exercice02\">Normalisation d'un vecteur X</a><a name=\"exercice02\"></a>\n",
      "$$\\mathbf{U} \\in \\mathcal{R}^n \\mbox{ calcul } \\mathbf{U} \\leftarrow \\frac{\\mathbf{U}}{\\left\\Vert\\mathbf{U} \\right\\Vert}$$\n",
      "  \n",
      "Ecrire une fonction python qui normalise un vecteur X  \n",
      "  \n",
      "    Xn = normalisation(X)\n",
      "  \n",
      "attention au cas X=0  \n"
     ]
    },
    {
     "cell_type": "markdown",
     "metadata": {},
     "source": [
      "<a href=\"#sommaire\"><img style=\" float:left\" src=\"Figures/go-home.png\"></a><a href=\"#tableau_2D\"><img style=\" float:center\" src=\"Figures/go-next.png\"> </a>"
     ]
    },
    {
     "cell_type": "markdown",
     "metadata": {},
     "source": [
      "#<a href=\"#tableau_2D\">Tableau 2D</a><a id=\"tableau_2D\"></a>\n",
      "\n",
      "structure de donn\u00e9es pour repr\u00e9senter une matrice\n",
      "\n",
      "**tableau 2D** : liste de $n*p$ \u00e9l\u00e9ments du m\u00eame type (entier ou r\u00e9el)\n",
      "(n,p = dimensions de la matrice)\n",
      "\n",
      "- en math\u00e9matique: $\\mathbf{A} \\in \\mathcal{R}^{n,p} $ \n",
      "- en algorithmique:  A tableau de $n*p$ r\u00e9els (contenant les composantes de A)\n",
      "\n",
      "**\u00e9l\u00e9ment i,i du tableau** : A[i,j] $\\equiv\\mathbf{A}_{i+1,j+1}$ \n",
      "\n",
      "**Attention**  on compte \u00e0 partir de 0, donc i varie de 0 \u00e0 n-1 et j de 0 \u00e0 p-1\n",
      "\n",
      "## <a href=\"#ici040\">Exemple: matrice de rotation dans $\\mathcal{R}^2$</a><a name=\"ici040\"></a>\n",
      "Rotation $\\theta$ d'un rep\u00e8re :\n",
      "$$ \\mathbf{R}=\\left[\\begin{array}{cc}\n",
      "\\cos(\\theta)& -\\sin(\\theta)\\\\\n",
      "\\sin(\\theta)& \\cos(\\theta)\n",
      "\\end{array}\\right]\n",
      "$$\n",
      "repr\u00e9sent\u00e9 par un tableau de r\u00e9els de dimension $2*2$, tel que:\n",
      "\n",
      "R=[[cos(theta),-sin(theta)],[sin(theta),cos(theta)]]\n",
      "\n",
      "(i.e. R[0,0]=cos(theta), R[0,1]=-sin(theta), R[1,0]=sin(theta), R[1,1]=cos(theta))\n",
      "\n",
      "**remarque** theta est une variable contenant la valeur de l'angle"
     ]
    },
    {
     "cell_type": "markdown",
     "metadata": {},
     "source": [
      "##<a href=\"#tableau_2Dpython\">Matrices en Python</a><a id=\"tableau_2Dpython\"></a>\n",
      "biblioth\u00e9que numpy: **array**,  dimension couple (tuple) **(n,p)**"
     ]
    },
    {
     "cell_type": "code",
     "collapsed": false,
     "input": [
      "import numpy as np\n",
      "theta = np.pi / 3\n",
      "R = np.array([[np.cos(theta), -np.sin(theta)],\n",
      "              [np.sin(theta), np.cos(theta)]])\n",
      "print R\n",
      "print type(R)\n",
      "print R.size, R.shape"
     ],
     "language": "python",
     "metadata": {},
     "outputs": [
      {
       "output_type": "stream",
       "stream": "stdout",
       "text": [
        "[[ 0.5       -0.8660254]\n",
        " [ 0.8660254  0.5      ]]\n",
        "<type 'numpy.ndarray'>\n",
        "4 (2, 2)\n"
       ]
      }
     ],
     "prompt_number": 18
    },
    {
     "cell_type": "markdown",
     "metadata": {},
     "source": [
      "### <a href=\"#ici042\">cr\u00e9ation de tableaux 2D</a><a name=\"ici042\"></a>\n",
      "\n",
      "- explicite\n",
      "    A = array([[1.,2.],[3.,4.]])\n",
      "- fonctions: **zeros**, **ones**,.. : identiques en 1D en rempla\u00e7ant **n** par **(n,p)** (voir doc **numpy**)"
     ]
    },
    {
     "cell_type": "code",
     "collapsed": false,
     "input": [
      "A = np.array([[1.,2.],[3.,4.]])\n",
      "Z = np.zeros((3, 2))\n",
      "X = np.reshape(np.arange(6),(2,3))\n",
      "print A.shape,Z.shape,X.shape"
     ],
     "language": "python",
     "metadata": {},
     "outputs": [
      {
       "output_type": "stream",
       "stream": "stdout",
       "text": [
        "(2, 2) (3, 2) (2, 3)\n"
       ]
      }
     ],
     "prompt_number": 19
    },
    {
     "cell_type": "markdown",
     "metadata": {},
     "source": [
      "### <a href=\"#ici043\">taille et \u00e9l\u00e9ments d'un tableau 2D</a><a name=\"ici043\"></a>\n",
      "\n",
      "- nbre total d'\u00e9l\u00e9ments du tableau A: **A.size** ou **len(A)**\n",
      "- par dimension ** A.shape **\n",
      "- \u00e9l\u00e9ment: ** A[i, j] ** (\u00e0 partir de 0)\n",
      "- sous-matrices (convention identique en 1D)\n",
      "   - ligne i : ** A[i, :] **\n",
      "   - colonne j : ** A[:, j] **"
     ]
    },
    {
     "cell_type": "code",
     "collapsed": false,
     "input": [
      "A = np.array([[1, 2, 3], [4, 5, 6]])\n",
      "print \"A=\\n\",A, \"\\nA11 =\",A[1,1] ,\"dim A=\", A.shape\n",
      "B = A[:, 0:2]\n",
      "print \"B=\\n\",B, \"\\nB11 =\",B[1,1] ,\"dim B=\", B.shape\n",
      "C = A[1, :]\n",
      "print \"C=\\n\",C, \"\\nC1 =\",C[1], \"dim C=\",C.shape\n",
      "A[1,1]=0\n",
      "print \"B=\\n\",B\n",
      "print \"C=\\n\",C"
     ],
     "language": "python",
     "metadata": {},
     "outputs": [
      {
       "output_type": "stream",
       "stream": "stdout",
       "text": [
        "A=\n",
        "[[1 2 3]\n",
        " [4 5 6]] \n",
        "A11 = 5 dim A= (2, 3)\n",
        "B=\n",
        "[[1 2]\n",
        " [4 5]] \n",
        "B11 = 5 dim B= (2, 2)\n",
        "C=\n",
        "[4 5 6] \n",
        "C1 = 5 dim C= (3,)\n",
        "B=\n",
        "[[1 2]\n",
        " [4 0]]\n",
        "C=\n",
        "[4 0 6]\n"
       ]
      }
     ],
     "prompt_number": 20
    },
    {
     "cell_type": "markdown",
     "metadata": {},
     "source": [
      "### <a href=\"#ici045\">\u00e9quivalence avec les tableaux 1D</a><a name=\"ici045\"></a>\n",
      "$A$ tableau 2D  (**array** 2D) $n*p$ r\u00e9els  $\\equiv$ $B$ tableau 1D de m\u00eame dimension globale $np$\n",
      "\n",
      "les donn\u00e9es sont identiques, seul l'acc\u00e8s est diff\u00e9rent:\n",
      "\n",
      "** reshape(tableau,dimension) ** (attention aliasing !!)\n",
      "- $B = A$\n",
      "- $A_{i,j}$ pour $i=0,n-1$ et $j=0,p-1$\n",
      "- $B_k$  pour $k=0..np-1$\n",
      "- $A_{i,j}\\equiv B_k$ avec $k=i*p+j$ (stocage par ligne C/C++)\n"
     ]
    },
    {
     "cell_type": "code",
     "collapsed": false,
     "input": [
      "A = np.array([[1., 2., 3.], [4., 5., 6.]])\n",
      "B = np.reshape(A ,6)\n",
      "C = np.reshape(A, (3, 2))\n",
      "print \"dim A =\", A.shape,\" A=\\n\",A\n",
      "print \"dim B =\", B.shape,\" B=\\n\",B\n",
      "B[2] = 0\n",
      "print \"B=\\n\",B\n",
      "print \"A=\\n\",A\n",
      "print \"C=\\n\",C"
     ],
     "language": "python",
     "metadata": {},
     "outputs": [
      {
       "output_type": "stream",
       "stream": "stdout",
       "text": [
        "dim A = (2, 3)  A=\n",
        "[[ 1.  2.  3.]\n",
        " [ 4.  5.  6.]]\n",
        "dim B = (6,)  B=\n",
        "[ 1.  2.  3.  4.  5.  6.]\n",
        "B=\n",
        "[ 1.  2.  0.  4.  5.  6.]\n",
        "A=\n",
        "[[ 1.  2.  0.]\n",
        " [ 4.  5.  6.]]\n",
        "C=\n",
        "[[ 1.  2.]\n",
        " [ 0.  4.]\n",
        " [ 5.  6.]]\n"
       ]
      }
     ],
     "prompt_number": 21
    },
    {
     "cell_type": "markdown",
     "metadata": {},
     "source": [
      "### <a href=\"#ici046\">Copie et aliasing</a><a name=\"ici046\"></a>\n",
      "\n",
      "**aliasing** = noms de variable diff\u00e9rents, mais donn\u00e9es partag\u00e9es\n",
      "\n",
      "- aliasing par d\u00e9faut sous python: ** B=A **\n",
      "- sinon copie explicite: ** C[:,:]=A[:,:] **\n",
      "<span style=\"display:block; padding-bottom:0px;\"></span>"
     ]
    },
    {
     "cell_type": "code",
     "collapsed": false,
     "input": [
      "A=np.zeros((2,2))\n",
      "B=A\n",
      "B[0,0]=2\n",
      "C=A.copy()\n",
      "C[0,:]=[3,4]\n",
      "print \"A=\",A,\"\\nB=\",B,\"\\nC=\",C"
     ],
     "language": "python",
     "metadata": {},
     "outputs": [
      {
       "output_type": "stream",
       "stream": "stdout",
       "text": [
        "A= [[ 2.  0.]\n",
        " [ 0.  0.]] \n",
        "B= [[ 2.  0.]\n",
        " [ 0.  0.]] \n",
        "C= [[ 3.  4.]\n",
        " [ 0.  0.]]\n"
       ]
      }
     ],
     "prompt_number": 22
    },
    {
     "cell_type": "markdown",
     "metadata": {},
     "source": [
      "##<a href=\"#exemple2\">Exemple: produit matrice-vecteur</a><a id=\"exemple2\"></a>\n",
      "\n",
      "Calcul du produit matriciel  **Y=A X**:\n",
      "$$ \\mathbf{A}\\in\\mathcal{R}^n\\times\\mathcal{R}^p  , \\mathbf{X}\\in\\mathcal{R}^p , \\mathbf{Y}\\in\\mathcal{R}^n  \\ \\ Y_i =\\sum_{j=1}^{p} A_{i,j} X_j$$\n",
      "\n",
      "\n",
      "**<a href=\"#ici047\">Algorithme produit matrice-vecteur Y = A X</a><a name=\"ici047\"></a>**\n",
      "\n",
      "    Algorithme MatVec(A,X)\n",
      "        n,p = dimension de A\n",
      "        Y = tableau(n)\n",
      "        pour i de 0 a n-1\n",
      "            Y[i]=0.\n",
      "            pour j de 0 a p-1\n",
      "                Y[i]=Y[i]+A[i,j]*X[j]\n",
      "            fin pour j\n",
      "        fin pour i\n",
      "        retour Y\n",
      "    \n",
      "**<a href=\"#ici048\">Programme Python produit scalaire</a><a name=\"ici048\"></a>**"
     ]
    },
    {
     "cell_type": "code",
     "collapsed": false,
     "input": [
      "def MatVec(A,X):\n",
      "    \"\"\" calcul le produit Y=A.X de A par X \"\"\" \n",
      "    n,p = A.shape\n",
      "    Y = np.zeros(n)\n",
      "    for i in range(n):\n",
      "        S = 0.\n",
      "        for j in range(p):\n",
      "            S +=  A[i, j] * X[j]\n",
      "        Y[i] = S\n",
      "    return Y\n",
      "#\n",
      "n, p = 3, 2\n",
      "A = np.reshape(np.arange(n*p), (n, p))\n",
      "X = np.array(np.arange(p))\n",
      "print \"A =\\n\",A\n",
      "print \"X =\",X\n",
      "print \"Y =\",MatVec(A,X)"
     ],
     "language": "python",
     "metadata": {},
     "outputs": [
      {
       "output_type": "stream",
       "stream": "stdout",
       "text": [
        "A =\n",
        "[[0 1]\n",
        " [2 3]\n",
        " [4 5]]\n",
        "X = [0 1]\n",
        "Y = [ 1.  3.  5.]\n"
       ]
      }
     ],
     "prompt_number": 23
    },
    {
     "cell_type": "markdown",
     "metadata": {},
     "source": [
      "##<a href=\"#exercice1\">Exercices</a><a name=\"exercice1\"></a>\n",
      "\n",
      "1. Calcul du produit de 2 matrices\n",
      "2. Calcul de la matrice de Vandermonde d'ordre n\n",
      "\n",
      "###<a href=\"#sommaire\">Produit matrice-matrice</a> <a id=\"exercice2\"></a>\n",
      "\n",
      "$\\mathbf{C} = \\mathbf{A}\\ \\mathbf{B} $ pour $\\mathbf{A} \\in \\mathcal{R}^n\\times\\mathcal{R}^p$ , $\\mathbf{B} \\in \\mathcal{R}^p\\times\\mathcal{R}^q$ et $\\mathbf{C} \\in \\mathcal{R}^n\\times\\mathcal{R}^q$\n",
      "$$ C_{i,j} = \\sum_{k=1}^{p} A_{i,k} B_{k,j}$$\n"
     ]
    },
    {
     "cell_type": "markdown",
     "metadata": {},
     "source": [
      "###<a href=\"#exercice3\">Matrice de Vandermonde</a><a id=\"exercice3\"></a>\n",
      "\n",
      "$$ V = \\left[ \\begin{array}{ccccc}\n",
      "1 & x_0 & x_0^2 & \\ldots & x_0^{n} \\\\\n",
      "1 & x_1 & x_1^2 & \\ldots & x_1^{n}\\\\\n",
      "\\ldots & \\ldots & \\ldots & \\ldots & \\ldots \\\\\n",
      "1 & x_n & x_n^2 & \\ldots & x_n^{n}\\\\\n",
      "\\end{array}\n",
      "\\right]\n",
      "$$\n",
      "\n",
      "Intervient dans le probl\u00e8me de la d\u00e9termination du polyn\u00f4me d'interpolation de degr\u00e9 $n$ passant par $n+1$ points $\\{x_i,y_i\\}_{i=0,n}$\n"
     ]
    },
    {
     "cell_type": "markdown",
     "metadata": {},
     "source": [
      "<a href=\"#sommaire\"><img style=\" float:left\" src=\"Figures/go-home.png\"></a><a href=\"#forpython\"><img style=\" float:center\" src=\"Figures/go-next.png\"> </a>"
     ]
    },
    {
     "cell_type": "markdown",
     "metadata": {},
     "source": [
      "# <a href=\"#forpython\">Boucle en Python sur les tableaux</a><a name=\"forpython\"></a>\n",
      "\n",
      "## it\u00e9rations sur les \u00e9l\u00e9ments val d'un tableau Tab (ou d'une liste) \n",
      "\n",
      "    for val in Tab:"
     ]
    },
    {
     "cell_type": "code",
     "collapsed": false,
     "input": [
      "# calcul du carr\u00e9 de la norme d'un vecteur\n",
      "X = np.random.rand(100)\n",
      "norm2 = 0.0\n",
      "for x in X:\n",
      "    norm2 = norm2 + x * x\n",
      "print norm2"
     ],
     "language": "python",
     "metadata": {},
     "outputs": [
      {
       "output_type": "stream",
       "stream": "stdout",
       "text": [
        "35.1087342415\n"
       ]
      }
     ],
     "prompt_number": 24
    },
    {
     "cell_type": "markdown",
     "metadata": {},
     "source": [
      "## it\u00e9rations avec indice et valeur (enumerate)\n",
      "\n",
      "    for i,val in enumerate(Tab):"
     ]
    },
    {
     "cell_type": "code",
     "collapsed": false,
     "input": [
      "# determination du max d'un tableau\n",
      "X = np.random.rand(10)\n",
      "print X\n",
      "xmax = X[0]\n",
      "imax = 0.\n",
      "for i, x in enumerate(X):\n",
      "    if x > xmax:\n",
      "        xmax = x\n",
      "        imax = i\n",
      "print \"xmax =\", xmax, \" pour i =\", imax"
     ],
     "language": "python",
     "metadata": {},
     "outputs": [
      {
       "output_type": "stream",
       "stream": "stdout",
       "text": [
        "[ 0.55049562  0.06996563  0.20669383  0.38304746  0.38677463  0.39015958\n",
        "  0.91786849  0.79607976  0.55768701  0.80572928]\n",
        "xmax = 0.917868486602  pour i = 6\n"
       ]
      }
     ],
     "prompt_number": 25
    },
    {
     "cell_type": "markdown",
     "metadata": {},
     "source": [
      "## boucle avec un indice d\u00e9croissant (reversed)\n",
      "\n",
      "    for i in reversed(range(n)):"
     ]
    },
    {
     "cell_type": "markdown",
     "metadata": {},
     "source": [
      "### exemple : permutation circulaire vers la droite"
     ]
    },
    {
     "cell_type": "code",
     "collapsed": false,
     "input": [
      "# permutation des valeurs d'un tableau vers la droite: X[i+1]=X[i]\n",
      "X = np.random.rand(4)\n",
      "print X\n",
      "last = X[-1]\n",
      "for i in reversed(range(1, X.size)):\n",
      "    X[i] = X[i-1]\n",
      "X[0] = last\n",
      "print X"
     ],
     "language": "python",
     "metadata": {},
     "outputs": [
      {
       "output_type": "stream",
       "stream": "stdout",
       "text": [
        "[ 0.70205722  0.29690824  0.17314344  0.34107999]\n",
        "[ 0.34107999  0.70205722  0.29690824  0.17314344]\n"
       ]
      }
     ],
     "prompt_number": 26
    },
    {
     "cell_type": "markdown",
     "metadata": {},
     "source": [
      "## boucles de tr\u00e8s grande taille: xrange\n",
      "\n",
      "pour des boucles de tr\u00e8s grandes tailles (n > 100 000) on peut utiliser \n",
      "\n",
      "    for i in xrange(n)\n",
      "au lieu de\n",
      "\n",
      "    for i in range(n)"
     ]
    },
    {
     "cell_type": "markdown",
     "metadata": {},
     "source": [
      "**Exercice:** modifier l'algorithme pour effectuer une permutation circulaire vers la gauche"
     ]
    },
    {
     "cell_type": "markdown",
     "metadata": {},
     "source": [
      "<a href=\"#sommaire\"><img style=\" float:left\" src=\"Figures/go-home.png\"></a><a href=\"#matlab\"><img style=\" float:center\" src=\"Figures/go-next.png\"> </a>"
     ]
    },
    {
     "cell_type": "markdown",
     "metadata": {},
     "source": [
      "#<a href=\"#matlab\">Notation matricielle \u00e0 la Matlab</a><a id=\"matlab\"/>"
     ]
    },
    {
     "cell_type": "markdown",
     "metadata": {},
     "source": [
      "## Efficacit\u00e9 -> boucles dans la biblioth\u00e9que numpy\n",
      "\n",
      "- op\u00e9rations (terme \u00e0 terme) sur les vecteurs +,-,*,/"
     ]
    },
    {
     "cell_type": "code",
     "collapsed": false,
     "input": [
      "X = np.random.rand(3)\n",
      "Y = np.random.rand(3)\n",
      "print \"X=\",X, \"\\nY=\",Y, \"\\nXY=\",X*Y"
     ],
     "language": "python",
     "metadata": {},
     "outputs": [
      {
       "output_type": "stream",
       "stream": "stdout",
       "text": [
        "X= [ 0.29797128  0.85525536  0.50743663] \n",
        "Y= [ 0.85093312  0.19093271  0.15353496] \n",
        "XY= [ 0.25355363  0.16329622  0.07790926]\n"
       ]
      }
     ],
     "prompt_number": 27
    },
    {
     "cell_type": "markdown",
     "metadata": {},
     "source": [
      "- fonctions math\u00e9matiques (terme \u00e0 terme)"
     ]
    },
    {
     "cell_type": "code",
     "collapsed": false,
     "input": [
      "print np.cos(X)"
     ],
     "language": "python",
     "metadata": {},
     "outputs": [
      {
       "output_type": "stream",
       "stream": "stdout",
       "text": [
        "[ 0.95593405  0.6560258   0.87399302]\n"
       ]
      }
     ],
     "prompt_number": 28
    },
    {
     "cell_type": "markdown",
     "metadata": {},
     "source": [
      "## <a href=\"#ici080\">Utilisez les fonctions de la biblioth\u00e9que numpy</a><a name=\"ici080\"></a>"
     ]
    },
    {
     "cell_type": "markdown",
     "metadata": {},
     "source": [
      " - op\u00e9rations matricielle: fonction **dot**\n",
      " \n",
      " produit scalaire, produit matrice-vecteur, produit matriciel\n",
      " $$ C= dot(A,B)\\ \\rightarrow\\  C_{ij} = \\sum_{k} A_{ik} B_{kj}$$"
     ]
    },
    {
     "cell_type": "code",
     "collapsed": false,
     "input": [
      "print \"X.Y=\",np.dot(X,Y)\n",
      "print \"|X|=\",np.sqrt(np.dot(X,X))\n",
      "A = np.random.rand(3,3)\n",
      "print \"A*X=\",np.dot(A,X)\n",
      "print \"A*A=\\n\",np.dot(A,A)"
     ],
     "language": "python",
     "metadata": {},
     "outputs": [
      {
       "output_type": "stream",
       "stream": "stdout",
       "text": [
        "X.Y= 0.494759112503\n",
        "|X|= 1.03814283635\n",
        "A*X= [ 1.22743328  0.89707425  0.94206656]\n",
        "A*A=\n",
        "[[ 1.32463201  1.69496479  0.64170432]\n",
        " [ 0.88619425  1.14863413  0.52269862]\n",
        " [ 0.95984345  1.23918734  0.55693369]]\n"
       ]
      }
     ],
     "prompt_number": 29
    },
    {
     "cell_type": "markdown",
     "metadata": {},
     "source": [
      "- produit tensoriel interne (somme sur la derni\u00e8re dimension): fonction **inner**\n",
      "$$ C= inner(A,B)\\ \\rightarrow\\  C_{ij} = \\sum_{k} A_{ik} B_{jk}$$"
     ]
    },
    {
     "cell_type": "code",
     "collapsed": false,
     "input": [
      "print \"inner(X,Y)=\",np.inner(X,Y)\n",
      "print \"inner(A,X)=\",np.inner(A,X)\n",
      "print \"inner(A,A)=\\n\",np.inner(A,A)"
     ],
     "language": "python",
     "metadata": {},
     "outputs": [
      {
       "output_type": "stream",
       "stream": "stdout",
       "text": [
        "inner(X,Y)= 0.494759112503\n",
        "inner(A,X)= [ 1.22743328  0.89707425  0.94206656]\n",
        "inner(A,A)=\n",
        "[[ 1.57174331  1.00354358  1.09660654]\n",
        " [ 1.00354358  1.04166228  1.03038676]\n",
        " [ 1.09660654  1.03038676  1.03776694]]\n"
       ]
      }
     ],
     "prompt_number": 30
    },
    {
     "cell_type": "markdown",
     "metadata": {},
     "source": [
      "- produit tensoriel externe: fonction **outer**\n",
      "\n",
      "$$Z = outer(X,Y)\\ \\rightarrow\\  Z_{ij} = X_i Y_j $$"
     ]
    },
    {
     "cell_type": "code",
     "collapsed": false,
     "input": [
      "print \"outer(X,X)=\\n\",np.outer(X,X)"
     ],
     "language": "python",
     "metadata": {},
     "outputs": [
      {
       "output_type": "stream",
       "stream": "stdout",
       "text": [
        "outer(X,X)=\n",
        "[[ 0.08878688  0.25484153  0.15120154]\n",
        " [ 0.25484153  0.73146173  0.4339879 ]\n",
        " [ 0.15120154  0.4339879   0.25749194]]\n"
       ]
      }
     ],
     "prompt_number": 31
    },
    {
     "cell_type": "markdown",
     "metadata": {},
     "source": [
      "- somme et produit : fonction **sum** et **prod**\n",
      "- ainsi que de nombreuses autres fonctions (inverse, d\u00e9terminant, ..)\n",
      "\n",
      "voir la **documentation numpy**: [http://docs.scipy.org/doc/numpy/reference](http://docs.scipy.org/doc/numpy/reference)"
     ]
    },
    {
     "cell_type": "markdown",
     "metadata": {},
     "source": [
      "## <a href=\"#ici085\">Aide sur les fonctions : help() ou TAB</a><a name=\"ici085\"></a>\n",
      "\n",
      "    help(fonction) ou fonction?\n",
      "        "
     ]
    },
    {
     "cell_type": "code",
     "collapsed": true,
     "input": [
      "help(np.sum)"
     ],
     "language": "python",
     "metadata": {},
     "outputs": [
      {
       "output_type": "stream",
       "stream": "stdout",
       "text": [
        "Help on function sum in module numpy.core.fromnumeric:\n",
        "\n",
        "sum(a, axis=None, dtype=None, out=None, keepdims=False)\n",
        "    Sum of array elements over a given axis.\n",
        "    \n",
        "    Parameters\n",
        "    ----------\n",
        "    a : array_like\n",
        "        Elements to sum.\n",
        "    axis : None or int or tuple of ints, optional\n",
        "        Axis or axes along which a sum is performed.\n",
        "        The default (`axis` = `None`) is perform a sum over all\n",
        "        the dimensions of the input array. `axis` may be negative, in\n",
        "        which case it counts from the last to the first axis.\n",
        "    \n",
        "        .. versionadded:: 1.7.0\n",
        "    \n",
        "        If this is a tuple of ints, a sum is performed on multiple\n",
        "        axes, instead of a single axis or all the axes as before.\n",
        "    dtype : dtype, optional\n",
        "        The type of the returned array and of the accumulator in which\n",
        "        the elements are summed.  By default, the dtype of `a` is used.\n",
        "        An exception is when `a` has an integer type with less precision\n",
        "        than the default platform integer.  In that case, the default\n",
        "        platform integer is used instead.\n",
        "    out : ndarray, optional\n",
        "        Array into which the output is placed.  By default, a new array is\n",
        "        created.  If `out` is given, it must be of the appropriate shape\n",
        "        (the shape of `a` with `axis` removed, i.e.,\n",
        "        ``numpy.delete(a.shape, axis)``).  Its type is preserved. See\n",
        "        `doc.ufuncs` (Section \"Output arguments\") for more details.\n",
        "    keepdims : bool, optional\n",
        "        If this is set to True, the axes which are reduced are left\n",
        "        in the result as dimensions with size one. With this option,\n",
        "        the result will broadcast correctly against the original `arr`.\n",
        "    \n",
        "    Returns\n",
        "    -------\n",
        "    sum_along_axis : ndarray\n",
        "        An array with the same shape as `a`, with the specified\n",
        "        axis removed.   If `a` is a 0-d array, or if `axis` is None, a scalar\n",
        "        is returned.  If an output array is specified, a reference to\n",
        "        `out` is returned.\n",
        "    \n",
        "    See Also\n",
        "    --------\n",
        "    ndarray.sum : Equivalent method.\n",
        "    \n",
        "    cumsum : Cumulative sum of array elements.\n",
        "    \n",
        "    trapz : Integration of array values using the composite trapezoidal rule.\n",
        "    \n",
        "    mean, average\n",
        "    \n",
        "    Notes\n",
        "    -----\n",
        "    Arithmetic is modular when using integer types, and no error is\n",
        "    raised on overflow.\n",
        "    \n",
        "    Examples\n",
        "    --------\n",
        "    >>> np.sum([0.5, 1.5])\n",
        "    2.0\n",
        "    >>> np.sum([0.5, 0.7, 0.2, 1.5], dtype=np.int32)\n",
        "    1\n",
        "    >>> np.sum([[0, 1], [0, 5]])\n",
        "    6\n",
        "    >>> np.sum([[0, 1], [0, 5]], axis=0)\n",
        "    array([0, 6])\n",
        "    >>> np.sum([[0, 1], [0, 5]], axis=1)\n",
        "    array([1, 5])\n",
        "    \n",
        "    If the accumulator is too small, overflow occurs:\n",
        "    \n",
        "    >>> np.ones(128, dtype=np.int8).sum(dtype=np.int8)\n",
        "    -128\n",
        "\n"
       ]
      }
     ],
     "prompt_number": 32
    },
    {
     "cell_type": "markdown",
     "metadata": {},
     "source": [
      "<a href=\"#sommaire\"><img style=\" float:left\" src=\"Figures/go-home.png\"></a><a href=\"#biblio\"><img style=\" float:center\" src=\"Figures/go-next.png\"> </a>"
     ]
    },
    {
     "cell_type": "markdown",
     "metadata": {},
     "source": [
      "#<a href=\"#biblio\">Bibliographie</a><a name=\"biblio\"></a>"
     ]
    },
    {
     "cell_type": "markdown",
     "metadata": {},
     "source": [
      "- <h3>[Why numbering should start at zero](http://www.cs.utexas.edu/users/EWD/transcriptions/EWD08xx/EWD831.html)<h3> \n",
      "\n",
      "transciption du c\u00e9l\u00e9bre article de [Edsger W. Dijkstra](http://fr.wikipedia.org/wiki/Edsger_Dijkstra).\n",
      "\n",
      "- <h3>Numpy pour les utilisateurs de Matlab</h3> \n",
      "ou comment traduire des programmes Matlab sous Python :\n",
      "[http://wiki.scipy.org/NumPy_for_Matlab_Users]\n"
     ]
    },
    {
     "cell_type": "markdown",
     "metadata": {},
     "source": [
      "<a href=\"#sommaire\"><img style=\" float:left\" src=\"Figures/go-home.png\"></a><a href=\"#fin\"><img style=\" float:center\" src=\"Figures/go-next.png\"> </a>"
     ]
    },
    {
     "cell_type": "markdown",
     "metadata": {},
     "source": [
      "#<a href=\"#fin\">Fin de la le\u00e7on</a><a name=\"fin\"></a>\n",
      "<div style=\"width:600px; overflow:auto;\">\n",
      "<center>\n",
      "<img style=\" float:center; display:inline; width:180px;\" src=\"Figures/logo_trans.png\" alt=\"LyonHPC\" />\n",
      "<img style=\" float:center; display:inline; width:200px;\" src=\"Figures/python-logo.gif\" alt=\"LyonHPC\"/>\n",
      "</center>\n",
      "</div>\n",
      "\n",
      "<img src=\"Figures/numpy_array.png\" style=\"width:300px;\" />"
     ]
    }
   ],
   "metadata": {}
  }
 ]
}