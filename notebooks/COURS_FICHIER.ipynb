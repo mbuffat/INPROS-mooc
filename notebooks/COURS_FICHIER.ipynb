{
 "metadata": {
  "name": "",
  "signature": "sha256:e090325bed97c89d525e5b9013ea1fdfebe1c002831dd5ce86b7c5f547404f22"
 },
 "nbformat": 3,
 "nbformat_minor": 0,
 "worksheets": [
  {
   "cells": [
    {
     "cell_type": "markdown",
     "metadata": {},
     "source": [
      "# <a href=\"http://ipython.org/notebook.html\">Ipython notebook : </a> cours <a href=\"..\">INPROS</a> <a href=\"http://inros.univ-lyon1.fr\"><img style=\" float:right; display:inline; width:120px;\" src=\"Figures/logo_trans.png\" alt=\"LyonHPC\" /></a>\n",
      "<h5>\n",
      "**Auteur: ** <a href=\"http://ufrmeca.univ-lyon1.fr/~buffat\">Marc BUFFAT</a>, Pr dpt de M\u00e9canique, UCB Lyon 1\n",
      "\n",
      "**Contributeurs: ** Violaine Louvet, Michel Kern, Loic Gouarin, Laurence Viry\n",
      "</h5>\n",
      "<h6>\n",
      "<a rel=\"license\" href=\"http://creativecommons.org/licenses/by-nc-sa/2.0/fr/\"><img alt=\"Licence Creative Commons\" style=\"border-width:0;float:right;\" src=\"Figures/cc.png\" /></a><br />Mise \u00e0 disposition selon les termes de la <a rel=\"license\" href=\"http://creativecommons.org/licenses/by-nc-sa/2.0/fr/\">Licence Creative Commons <br> Attribution - Pas d\u2019Utilisation Commerciale - Partage dans les M\u00eames Conditions 2.0 France</a>.\n",
      "</h6>"
     ]
    },
    {
     "cell_type": "code",
     "collapsed": false,
     "input": [
      "%matplotlib inline\n",
      "%autosave 300\n",
      "import numpy as np\n",
      "from IPython.display import HTML,display\n",
      "css_file = 'style.css'\n",
      "try:\n",
      "    display(HTML(open(css_file, \"r\").read()))\n",
      "    print \"using \",css_file\n",
      "except :\n",
      "    print \"using default css\""
     ],
     "language": "python",
     "metadata": {},
     "outputs": [
      {
       "javascript": [
        "IPython.notebook.set_autosave_interval(300000)"
       ],
       "metadata": {},
       "output_type": "display_data"
      },
      {
       "output_type": "stream",
       "stream": "stdout",
       "text": [
        "Autosaving every 300 seconds\n"
       ]
      },
      {
       "html": [
        "<link href='http://fonts.googleapis.com/css?family=Alegreya+Sans:100,300,400,500,700,800,900,100italic,300italic,400italic,500italic,700italic,800italic,900italic' rel='stylesheet' type='text/css'>\n",
        "<link href='http://fonts.googleapis.com/css?family=Arvo:400,700,400italic' rel='stylesheet' type='text/css'>\n",
        "<link href='http://fonts.googleapis.com/css?family=PT+Mono' rel='stylesheet' type='text/css'>\n",
        "<link href='http://fonts.googleapis.com/css?family=Shadows+Into+Light' rel='stylesheet' type='text/css'>\n",
        "<link href='http://fonts.googleapis.com/css?family=Nixie+One' rel='stylesheet' type='text/css'>\n",
        "<style>\n",
        "\n",
        "@font-face {\n",
        "    font-family: \"Computer Modern\";\n",
        "    src: url('http://mirrors.ctan.org/fonts/cm-unicode/fonts/otf/cmunss.otf');\n",
        "}\n",
        "\n",
        "#notebook_panel { /* main background */\n",
        "    background: rgb(245,245,245);\n",
        "}\n",
        "\n",
        "div.cell { /* set cell width */\n",
        "    width: 850px;\n",
        "}\n",
        "\n",
        "\n",
        "div #notebook { /* centre the content */\n",
        "    background: #fff; /* white background for content */\n",
        "    width: 1000px;\n",
        "    margin: auto;\n",
        "    padding-left: 0em;\n",
        "}\n",
        "\n",
        "#notebook li { /* More space between bullet points */\n",
        "margin-top:0.8em;\n",
        "}\n",
        "\n",
        "div.text_cell_render a:link {\n",
        "\ttext-decoration:none;\n",
        "}\n",
        "\n",
        "/* draw border around running cells */\n",
        "div.cell.border-box-sizing.code_cell.running { \n",
        "    border: 1px solid #111;\n",
        "}\n",
        "\n",
        "/* Put a solid color box around each cell and its output, visually linking them*/\n",
        "div.cell.code_cell {\n",
        "    background-color: rgb(256,256,256); \n",
        "    border-radius: 0px; \n",
        "    padding: 0.5em;\n",
        "    margin-left:1em;\n",
        "    margin-top: 1em;\n",
        "}\n",
        "\n",
        "div.text_cell_render{\n",
        "    font-family: 'Alegreya Sans' sans-serif;\n",
        "    line-height: 140%;\n",
        "    font-size: 125%;\n",
        "    font-weight: 400;\n",
        "    width:700px;\n",
        "    margin-left:auto;\n",
        "    margin-right:auto;\n",
        "}\n",
        "\n",
        "\n",
        "/* Formatting for header cells */\n",
        ".text_cell_render h1 {\n",
        "    font-family: 'Nixie One', serif;\n",
        "    font-style:regular;\n",
        "    font-weight: 400;    \n",
        "    font-size: 45pt;\n",
        "    line-height: 100%;\n",
        "    color: rgb(0,51,102);\n",
        "    margin-bottom: 0.5em;\n",
        "    margin-top: 0.5em;\n",
        "    display: block;\n",
        "}\t\n",
        ".text_cell_render h2 {\n",
        "    font-family: 'Nixie One', serif;\n",
        "    font-weight: 400;\n",
        "    font-size: 30pt;\n",
        "    line-height: 100%;\n",
        "    color: rgb(0,51,102);\n",
        "    margin-bottom: 0.1em;\n",
        "    margin-top: 0.3em;\n",
        "    display: block;\n",
        "}\t\n",
        "\n",
        ".text_cell_render h3 {\n",
        "    font-family: 'Nixie One', serif;\n",
        "    margin-top:16px;\n",
        "\tfont-size: 22pt;\n",
        "    font-weight: 600;\n",
        "    margin-bottom: 3px;\n",
        "    font-style: regular;\n",
        "    color: rgb(102,102,0);\n",
        "}\n",
        "\n",
        ".text_cell_render h4 {    /*Use this for captions*/\n",
        "    font-family: 'Nixie One', serif;\n",
        "    font-size: 14pt;\n",
        "    text-align: center;\n",
        "    margin-top: 0em;\n",
        "    margin-bottom: 2em;\n",
        "    font-style: regular;\n",
        "}\n",
        "\n",
        ".text_cell_render h5 {  /*Use this for small titles ou TOC*/\n",
        "    font-family: 'Nixie One', sans-serif;\n",
        "    font-weight: 400;\n",
        "    font-size: 16pt;\n",
        "    color: rgb(163,0,0);\n",
        "    font-style: italic;\n",
        "    margin-bottom: .1em;\n",
        "    margin-top: 0.8em;\n",
        "    display: block;\n",
        "}\n",
        "\n",
        ".text_cell_render h6 { /*use this for copyright note*/\n",
        "    font-family: 'PT Mono', sans-serif;\n",
        "    font-weight: 300;\n",
        "    font-size: 9pt;\n",
        "    line-height: 100%;\n",
        "    color: grey;\n",
        "    margin-bottom: 1px;\n",
        "    margin-top: 1px;\n",
        "}\n",
        "\n",
        ".CodeMirror{\n",
        "        font-family: \"PT Mono\";\n",
        "        font-size: 90%;\n",
        "}\n",
        "\n",
        "</style>\n",
        "<script>\n",
        "    MathJax.Hub.Config({\n",
        "                        TeX: {\n",
        "                           extensions: [\"AMSmath.js\"],\n",
        "                           equationNumbers: { autoNumber: \"AMS\", useLabelIds: true}\n",
        "                           },\n",
        "                tex2jax: {\n",
        "                    inlineMath: [ ['$','$'], [\"\\\\(\",\"\\\\)\"] ],\n",
        "                    displayMath: [ ['$$','$$'], [\"\\\\[\",\"\\\\]\"] ]\n",
        "                },\n",
        "                displayAlign: 'center', // Change this to 'center' to center equations.\n",
        "                \"HTML-CSS\": {\n",
        "                    styles: {'.MathJax_Display': {\"margin\": 4}}\n",
        "                }\n",
        "        });\n",
        "</script>\n"
       ],
       "metadata": {},
       "output_type": "display_data",
       "text": [
        "<IPython.core.display.HTML at 0x7fe5e4186110>"
       ]
      },
      {
       "output_type": "stream",
       "stream": "stdout",
       "text": [
        "using  style.css\n"
       ]
      }
     ],
     "prompt_number": 1
    },
    {
     "cell_type": "heading",
     "level": 1,
     "metadata": {},
     "source": [
      "<a href=\"#ici000\">Gestion de fichiers et entr\u00e9s/sorties</a><a name=\"ici000\"></a>"
     ]
    },
    {
     "cell_type": "markdown",
     "metadata": {},
     "source": [
      "<div style=\"width:600px; overflow:auto;\">\n",
      "<center>\n",
      "<img style=\" float:center; display:inline; width:180px;\" src=\"Figures/logo_trans.png\" alt=\"LyonHPC\" />\n",
      "<img style=\" float:center; display:inline; width:200px;\" src=\"Figures/python-logo.gif\" alt=\"LyonHPC\"/>\n",
      "</center>\n",
      "</div>\n",
      "<a href=\"#sommaire\"><img src=\"Figures/python_file.png\" style=\"width:300px; float:left;\" /></a>"
     ]
    },
    {
     "cell_type": "markdown",
     "metadata": {},
     "source": [
      "# <a href=\"#sommaire\">Contenu de la le\u00e7on</a><a name=\"sommaire\" /><a href=\"http://INPROS.univ-lyon1.fr\"><img style=\" float:right; display:inline; width:120px;\" src=\"Figures/logo_trans.png\" alt=\"LyonHPC\" /></a>\n",
      "<h5> \n",
      "1. <a href=\"#fichier_info\">Fichier informatique</a>\n",
      "2. <a href=\"#fichier_prog\">Fichier de programme sous Python</a>\n",
      "3. <a href=\"#fichier_data\">Fichier de donn\u00e9es</a>\n",
      "4. <a href=\"#ES\">Entr\u00e9e sortie</a>\n",
      "<span style=\"display:block; padding-bottom:20px;\"></span>"
     ]
    },
    {
     "cell_type": "markdown",
     "metadata": {},
     "source": [
      "<a href=\"#sommaire\"><img style=\" float:left\" src=\"Figures/go-home.png\"></a><a href=\"#fichier_info\"><img style=\" float:center\" src=\"Figures/go-next.png\"> </a>"
     ]
    },
    {
     "cell_type": "markdown",
     "metadata": {},
     "source": [
      "# <a href=\"#fichier_info\">Fichier informatique</a><a name=\"fichier_info\"></a>\n",
      "\n",
      "**d\u00e9finition (Wikip\u00e9dia)**\n",
      "un fichier informatique est  une collection d'informations num\u00e9riques (s\u00e9quences d'octets) r\u00e9unies sous un m\u00eame nom, enregistr\u00e9es sur un support de stockage tel qu'un disque dur, un CD-ROM, une cl\u00e9 USB ...\n",
      "\n",
      "En vue de faciliter leur organisation, les fichiers sont dispos\u00e9s dans des syst\u00e8mes de fichiers qui permettent de placer les fichiers dans des emplacements appel\u00e9s r\u00e9pertoires ou dossiers eux-m\u00eames organis\u00e9s selon le m\u00eame principe de mani\u00e8re \u00e0 former une hi\u00e9rarchie arborescente\n",
      "\n",
      "Sur le syst\u00e8me de l'ordinateur, un fichier est rep\u00e9r\u00e9 par son nom avec \u00e9ventuellement une extension et le r\u00e9pertoire dans lequel il se trouve.\n",
      "\n",
      "En calcul scientifique, on consid\u00e8re 2 types principaux de fichiers:\n",
      "\n",
      "- des fichiers de **programmes** qui contiennent un code informatique ex\u00e9cutable par l'ordinateur, sous 2 formes principales:\n",
      "\n",
      "   - fichiers **ex\u00e9cutables** qui contiennent un code binaire directement ex\u00e9cutable par le processeur (extension **.exe** sous windows). Ces programmes ne sont pas modifiables et sont propre \u00e0 l'ordinateur utilis\u00e9 (programmes commerciaux ou propri\u00e9taires)\n",
      "   - fichiers **sources** qui contiennent le code source du programme dans un langage de programmation (extension **.py** pour les programmes Python). Ces programmes peuvent \u00eatre modifi\u00e9s et \u00eatre ex\u00e9cuter sur n'importe quel ordinateur.\n",
      "  \n",
      "\n",
      "- des fichiers de **donn\u00e9es** qui contiennent des donn\u00e9es (data) cr\u00e9es et manipul\u00e9es par les programmes, sous 2 formes principales:\n",
      "\n",
      "   - des fichiers **binaires** qui contiennent l'information brute, utilisant le codage de l'ordinateur (le plus efficace pour le stockage)\n",
      "   - des fichiers **textes** qui contiennent les donn\u00e9es \u00e9crites sous forme de lignes de texte (format le plus simple \u00e0 manipuler)\n",
      " \n",
      " Dans la suite on ne consid\u00e9rera que les fichiers programmes Python (extension .py) et des fichiers de donn\u00e9es textes (extension .dat).\n",
      " \n",
      " Pour \u00e9viter des probl\u00e8mes de compatibilit\u00e9s entre syst\u00e8mes informatiques, on choisira des noms de fichiers sans caract\u00e8res accentu\u00e9s, sans espace ni caract\u00e9res sp\u00e9ciaux (autre que **.** ou **_** ou **-** ) "
     ]
    },
    {
     "cell_type": "markdown",
     "metadata": {},
     "source": [
      "<a href=\"#sommaire\"><img style=\" float:left\" src=\"Figures/go-home.png\"></a><a href=\"#fichier_prog\"><img style=\" float:center\" src=\"Figures/go-next.png\"> </a>"
     ]
    },
    {
     "cell_type": "markdown",
     "metadata": {},
     "source": [
      "# <a href=\"#fichier_prog\">Fichier de programme (ou script) sous Python</a><a name=\"fichier_prog\"></a>\n",
      "\n",
      "un fichier contenant un programme Python a par convention une extension **.py**. Un simple \u00e9diteur de texte (notepad sous Windows) suffit pour cr\u00e9er et modifier un programme Python\n",
      "\n",
      "- **gedit** [\"voir le site gedit\"](http://wiki.gnome.org/Apps/Gedit) un \u00e9diteur simple et efficace\n",
      "- **vim** et variante [\"soir le site vim\"](http://wiki.python.org/moin/Vim) un \u00e9diteur de r\u00e9f\u00e9rence pour les programmeurs\n",
      "- **spyder** [\"voir le site spyder\"](http://pythonhosted.org/spyder/) un environnement de d\u00e9veloppement Python \u00e0 la matlab pour les applications scientifiques. *Sous Spyder, on utilisera plut\u00f4t la console Ipython pour ex\u00e9cuter les programmes, que la console par d\u00e9faut qui utilise des conventions matlab diff\u00e9rentes d'un interpr\u00e9teur Python classique*."
     ]
    },
    {
     "cell_type": "markdown",
     "metadata": {},
     "source": [
      "## <a href=\"#ici010\">Exemple: trace de courbes de Lissajous</a><a name=\"ici010\"></a>\n",
      "Une courbe de Lissajous (d'apr\u00e8s le physicien fran\u00e7ais [\"Jules Antoine Lissajous\"](http://fr.wikipedia.org/wiki/Jules_Lissajous])) est une courbe param\u00e9trique du plan dont les composantes sont des fonctions p\u00e9riodiques du param\u00e8tre (en g\u00e9n\u00e9rale le temps en physique, et que l'on peut observer avec un oscilloscope).\n",
      "\n",
      "Le programme Python suivant **lissajous.py** trace les courbes de Lissajous suivantes\n",
      "\\begin{eqnarray} \n",
      "x(t) &=&  \\sin{(\\frac{2\\pi}{p} t)}\\\\\n",
      "y(t) &=&  \\sin{(\\frac{2\\pi}{q} t + \\phi)}\n",
      "\\end{eqnarray}\n",
      "Le rapport $n=\\frac{p}{q}$ est le param\u00e8tre de la courbe et $\\phi$ le d\u00e9phassage. Le temps $T$ de parcours de la courbe est le plus petit commun multiple de $p$ et $q$:\n",
      "$$T=pcm(p,q)=\\frac{pq}{pgcd(p,q)}$$"
     ]
    },
    {
     "cell_type": "markdown",
     "metadata": {},
     "source": [
      "### <a href=\"#ici011\">fichier lissajous.py</a><a name=\"ici011\"></a>"
     ]
    },
    {
     "cell_type": "code",
     "collapsed": false,
     "input": [
      "%%bash --err /dev/null\n",
      "ls -al lissajous.py\n",
      "gedit lissajous.py"
     ],
     "language": "python",
     "metadata": {},
     "outputs": [
      {
       "output_type": "stream",
       "stream": "stdout",
       "text": [
        "-rwxrwxr-x 1 buffat buffat 1641 oct.  24 22:22 lissajous.py\n"
       ]
      }
     ],
     "prompt_number": 2
    },
    {
     "cell_type": "markdown",
     "metadata": {},
     "source": [
      "### <a href=\"#ici012\">ex\u00e9cution du programme</a><a name=\"ici012\"></a>"
     ]
    },
    {
     "cell_type": "code",
     "collapsed": false,
     "input": [
      "%%bash --err /dev/null\n",
      "echo \"execution avec interpreteur python\"\n",
      "python lissajous.py"
     ],
     "language": "python",
     "metadata": {},
     "outputs": [
      {
       "output_type": "stream",
       "stream": "stdout",
       "text": [
        "execution avec interpreteur python\n"
       ]
      }
     ],
     "prompt_number": 3
    },
    {
     "cell_type": "code",
     "collapsed": false,
     "input": [
      "%%bash --err /dev/null\n",
      "echo \"execution automatique\"\n",
      "chmod +x lissajous.py\n",
      "./lissajous.py"
     ],
     "language": "python",
     "metadata": {},
     "outputs": [
      {
       "output_type": "stream",
       "stream": "stdout",
       "text": [
        "execution automatique\n"
       ]
      }
     ],
     "prompt_number": 4
    },
    {
     "cell_type": "markdown",
     "metadata": {},
     "source": [
      "## <a href=\"#ici015\">module (ou librairie)</a><a name=\"ici015\"></a>\n",
      "\n",
      "**module**  fichier contenant des fonctions et des d\u00e9finitions en python (biblioth\u00e8que)\n",
      "\n",
      "**nom du module** nom du fichier sans l'extension .py\n",
      "\n",
      "**utilisation** du module mon_module.py\n",
      "\n",
      "    import mon_module\n",
      "    import mon_module as mn\n",
      "    from mom_module import ma_fonction\n",
      "    from mon_module import *"
     ]
    },
    {
     "cell_type": "code",
     "collapsed": false,
     "input": [
      "from lissajous import pgcd,LissajousFigure\n",
      "print pgcd(21,9)\n",
      "LissajousFigure(5,3,np.pi/2)"
     ],
     "language": "python",
     "metadata": {},
     "outputs": [
      {
       "output_type": "stream",
       "stream": "stdout",
       "text": [
        "3\n"
       ]
      },
      {
       "metadata": {},
       "output_type": "display_data",
       "png": "[encoded data removed]",
       "text": [
        "<matplotlib.figure.Figure at 0x7fe5e41f3950>"
       ]
      }
     ],
     "prompt_number": 5
    },
    {
     "cell_type": "markdown",
     "metadata": {},
     "source": [
      "**rem** si votre biblioth\u00e8que n'est pas dans le r\u00e9pertoire courant, il faudra \n",
      "alors sp\u00e9cifier son chemin d\u2019acc\u00e8s (path) (voir documentation Python)"
     ]
    },
    {
     "cell_type": "markdown",
     "metadata": {},
     "source": [
      "<a href=\"#sommaire\"><img style=\" float:left\" src=\"Figures/go-home.png\"></a><a href=\"#fichier_data\"><img style=\" float:center\" src=\"Figures/go-next.png\"> </a>"
     ]
    },
    {
     "cell_type": "markdown",
     "metadata": {},
     "source": [
      "# <a href=\"#fichier_data\">Fichier de donn\u00e9es sous Python</a><a name=\"fichier_data\"></a>\n",
      "\n",
      "Comme dans la pluspart des langages informatiques, lire ou \u00e9crire dans un fichier, on va associer \u00e0 un fichier (\u00e0 son nom) une variable informatique de type **file**, qui poss\u00e9de des fonctions (ou m\u00e9thodes) permettant de lire ou \u00e9crire des donn\u00e9es dans le fichier.\n",
      "## <a href=\"#ici031\">fonction de lecture/\u00e9criture</a><a name=\"ici031\"></a>\n",
      "\n",
      "- ouverture d'un fichier *mon_fichier.dat* en lecture:\n",
      "        f=open(\"nom_fichier.dat\",'r')\n",
      "- ou en \u00e9criture:\n",
      "        f=open(\"nom_fichier.dat\",'w')\n",
      "- lecture / ecriture (caract\u00e8res)\n",
      "        f.read(n) ou f.readline() \n",
      "        f.write(chaine)\n",
      "- lecture / \u00e9criture de tableaux (numpy)\n",
      "        A=loadtxt(file (ou nom de fichier))\n",
      "        savetxt(file (ou nom de fichier), A)   \n",
      "- fermeture du fichier\n",
      "        f.close()"
     ]
    },
    {
     "cell_type": "markdown",
     "metadata": {},
     "source": [
      "## <a href=\"#ici032\">Exemple: \u00e9criture de donn\u00e9es</a><a name=\"ici032\"></a>\n",
      "\u00e9criture sur fichiers de $n$  points d'une courbe de Lissajous avec le format suivant \n",
      "\n",
      "    # ligne de commentaire\n",
      "    # n\n",
      "    t0 x0 y0\n",
      "    .......\n",
      "    ti xi yi\n",
      "    .......\n",
      "    tn-1 xn-1 yn-1\n",
      "                \n",
      "### <a href=\"#ici033\">Programme Python</a><a name=\"ici033\"></a>"
     ]
    },
    {
     "cell_type": "code",
     "collapsed": false,
     "input": [
      "import numpy as np\n",
      "import matplotlib.pyplot as plt\n",
      "from lissajous import Lissajous\n",
      "# calcul des points\n",
      "p=1; q=2; \n",
      "N=50\n",
      "t,x,y=Lissajous(p,q,np.pi/2,N)\n",
      "# mise sur fichier\n",
      "F=open(\"lissajous.dat\",\"w\")\n",
      "F.write(\"# courbe de lissajous avec p=%d q=%d\\n\"%(p,q))\n",
      "F.write(\"# %d\\n\"%(N))\n",
      "np.savetxt(F,np.transpose([t,x,y]))\n",
      "F.close()"
     ],
     "language": "python",
     "metadata": {},
     "outputs": [],
     "prompt_number": 6
    },
    {
     "cell_type": "code",
     "collapsed": false,
     "input": [
      "%%bash --err /dev/null\n",
      "ls -al lissajous.dat\n",
      "gedit lissajous.dat"
     ],
     "language": "python",
     "metadata": {},
     "outputs": [
      {
       "output_type": "stream",
       "stream": "stdout",
       "text": [
        "-rw-rw-r-- 1 buffat buffat 3839 oct.  28 17:24 lissajous.dat\n"
       ]
      }
     ],
     "prompt_number": 7
    },
    {
     "cell_type": "markdown",
     "metadata": {},
     "source": [
      "## <a href=\"#ici035\">Exemple: lecture de donn\u00e9es</a><a name=\"ici035\"></a>\n",
      "lecture des donn\u00e9es pr\u00e9c\u00e9dentes et tracer de la courbe"
     ]
    },
    {
     "cell_type": "code",
     "collapsed": true,
     "input": [
      "import numpy as np\n",
      "import matplotlib.pyplot as plt\n",
      "\n",
      "A=np.loadtxt(\"lissajous.dat\")\n",
      "print \"lecture des donn\u00e9es taille=\",A.shape\n",
      "x=A[:,1]\n",
      "y=A[:,2]\n",
      "# tracer\n",
      "plt.plot(x,y,lw=2)\n",
      "plt.show()"
     ],
     "language": "python",
     "metadata": {},
     "outputs": [
      {
       "output_type": "stream",
       "stream": "stdout",
       "text": [
        "lecture des donn\u00e9es taille= (50, 3)\n"
       ]
      },
      {
       "metadata": {},
       "output_type": "display_data",
       "png": "[encoded data removed]",
       "text": [
        "<matplotlib.figure.Figure at 0x7fe5e41f3750>"
       ]
      }
     ],
     "prompt_number": 8
    },
    {
     "cell_type": "markdown",
     "metadata": {},
     "source": [
      "## <a href=\"#ici036\">Lecture d'un fichier ligne par ligne</a><a name=\"ici036\"></a>"
     ]
    },
    {
     "cell_type": "code",
     "collapsed": false,
     "input": [
      "F=open(\"lissajous.dat\",\"r\")\n",
      "nlines=0\n",
      "nval=0\n",
      "for line in F:\n",
      "    if line[0] != \"#\" :\n",
      "        nval = nval + 1\n",
      "    nlines = nlines + 1\n",
      "F.close()\n",
      "print \"nbre de lignes lues =\",nlines,\" nbre de valeurs =\",nval"
     ],
     "language": "python",
     "metadata": {},
     "outputs": [
      {
       "output_type": "stream",
       "stream": "stdout",
       "text": [
        "nbre de lignes lues = 52  nbre de valeurs = 50\n"
       ]
      }
     ],
     "prompt_number": 9
    },
    {
     "cell_type": "markdown",
     "metadata": {},
     "source": [
      "## <a href=\"#ici037\">Ecriture format CSV</a><a name=\"ici037\"></a>\n",
      "le format CSV (Comma-Separated Values) permet de partag\u00e9 les donn\u00e9es avec un tableur (localc, excel). Il suffit de d\u00e9limiter les donn\u00e9es avec une '**,**'. \n",
      "\n",
      "**Attention:** *pour un tableur francis\u00e9, il faut lire le fichier avec l'option langue=US pour une conversion correcte des nombres r\u00e9els. Python (comme beaucoup de langage informatique) utilise le point (cad la convention anglo-saxonne) et non la virgule pour repr\u00e9senter un nombre r\u00e9el*."
     ]
    },
    {
     "cell_type": "code",
     "collapsed": false,
     "input": [
      "np.savetxt(\"lissajous.csv\",np.transpose([t,x,y]),delimiter=\",\")"
     ],
     "language": "python",
     "metadata": {},
     "outputs": [],
     "prompt_number": 10
    },
    {
     "cell_type": "code",
     "collapsed": false,
     "input": [
      "%%bash --err /dev/null\n",
      "ls -al lissajous.csv\n",
      "gedit lissajous.csv"
     ],
     "language": "python",
     "metadata": {},
     "outputs": [
      {
       "output_type": "stream",
       "stream": "stdout",
       "text": [
        "-rw-rw-r-- 1 buffat buffat 3799 oct.  28 17:24 lissajous.csv\n"
       ]
      }
     ],
     "prompt_number": 11
    },
    {
     "cell_type": "markdown",
     "metadata": {},
     "source": [
      "<a href=\"#sommaire\"><img style=\" float:left\" src=\"Figures/go-home.png\"></a><a href=\"#ES\"><img style=\" float:center\" src=\"Figures/go-next.png\"> </a>"
     ]
    },
    {
     "cell_type": "markdown",
     "metadata": {},
     "source": [
      "# <a href=\"#ES\">Entr\u00e9e Sortie en python</a><a id=\"ES\"></a>\n",
      "\n",
      "## <a href=\"#ici040\">Lecture au clavier</a><a name=\"ici040\"></a> \n",
      "lecture au clavier **input** d'une valeur avec conversion: entier, reel, caract\u00e8res (entre \" \")\n",
      "\n",
      "    val = input(\"message\")\n",
      "    \n",
      "lecture des caract\u00e8res tap\u00e9s au clavier **raw_input** sans conversion\n",
      "\n",
      "    chaine = raw_input(\"message\")"
     ]
    },
    {
     "cell_type": "code",
     "collapsed": false,
     "input": [
      "val = input(\"x=\")\n",
      "print val,type(val)\n",
      "chaine = raw_input(\"x=\")\n",
      "print chaine,type(chaine)"
     ],
     "language": "python",
     "metadata": {},
     "outputs": [
      {
       "name": "stdout",
       "output_type": "stream",
       "stream": "stdout",
       "text": [
        "x=1.2\n"
       ]
      },
      {
       "output_type": "stream",
       "stream": "stdout",
       "text": [
        "1.2 <type 'float'>\n"
       ]
      },
      {
       "name": "stdout",
       "output_type": "stream",
       "stream": "stdout",
       "text": [
        "x=1.2\n"
       ]
      },
      {
       "output_type": "stream",
       "stream": "stdout",
       "text": [
        "1.2 <type 'str'>\n"
       ]
      }
     ],
     "prompt_number": 12
    },
    {
     "cell_type": "markdown",
     "metadata": {},
     "source": [
      "## <a href=\"#ici041\">\u00c9criture avec formatage (mise en forme)</a><a name=\"ici041\"></a>\n",
      "\n",
      "    print format%(val1,val2,..)\n",
      "**format** est une cha\u00eene de caract\u00e8res contenant des champs **%[n][t]** \n",
      "\n",
      "- n = entier optionnel sp\u00e9cifiant la largueur (en colonnes) du champ\n",
      "- t  sp\u00e9cifie le type du champ: **d**=entier (d\u00e9cimal), **f**=r\u00e9el (float) , **e**=r\u00e9el avec exposant, **g**=r\u00e9el (format g\u00e9n\u00e9ral),  **s**=cha\u00eene (string)"
     ]
    },
    {
     "cell_type": "code",
     "collapsed": false,
     "input": [
      "i=1425\n",
      "print \"i=%d i=%8d\"%(i,i)\n",
      "x=3242.627\n",
      "print \"x=%15f x=%12.4e x=%g\"%(x,x,x)\n",
      "ch=\"chaine\"\n",
      "print \"ch1=%s ch2=%8s\"%(ch,ch)"
     ],
     "language": "python",
     "metadata": {},
     "outputs": [
      {
       "output_type": "stream",
       "stream": "stdout",
       "text": [
        "i=1425 i=    1425\n",
        "x=    3242.627000 x=  3.2426e+03 x=3242.63\n",
        "ch1=chaine ch2=  chaine\n"
       ]
      }
     ],
     "prompt_number": 13
    },
    {
     "cell_type": "markdown",
     "metadata": {},
     "source": [
      "<a href=\"#sommaire\"><img style=\" float:left\" src=\"Figures/go-home.png\"></a><a href=\"#fin\"><img style=\" float:center\" src=\"Figures/go-next.png\"> </a>"
     ]
    },
    {
     "cell_type": "markdown",
     "metadata": {},
     "source": [
      "#R\u00e9f\u00e9rence\n",
      "\n",
      "### Programme Python Lissajous"
     ]
    },
    {
     "cell_type": "code",
     "collapsed": false,
     "input": [
      "import numpy as np\n",
      "\n",
      "def pgcd(a, b):\n",
      "    \"\"\"calcul du pgcd de a et b par l'algorithme d'Euclide.\"\"\"\n",
      "    while b:\n",
      "        a, b = b, a % b\n",
      "    return a\n",
      "\n",
      "def Lissajous(p,q,phi,N):\n",
      "    \"\"\" calcul de N points d'une courbe de Lissajous\"\"\"\n",
      "    omega1 = 2*np.pi/p\n",
      "    omega2 = 2*np.pi/q\n",
      "    # temps d'\u00e9tude\n",
      "    T = p*q/pgcd(p,q)\n",
      "    t = np.linspace(0., T, N)\n",
      "    # equations parametriques\n",
      "    x = np.sin(omega1*t)\n",
      "    y = np.sin(omega2*t+phi)\n",
      "    return t,x,y"
     ],
     "language": "python",
     "metadata": {},
     "outputs": [],
     "prompt_number": 14
    },
    {
     "cell_type": "markdown",
     "metadata": {},
     "source": [
      "#<a href=\"#fin\">FIN</a><a name=\"fin\"></a>"
     ]
    },
    {
     "cell_type": "markdown",
     "metadata": {},
     "source": [
      "<div style=\"width:600px; overflow:auto;\">\n",
      "<center>\n",
      "<img style=\" float:center; display:inline; width:180px;\" src=\"Figures/logo_trans.png\" alt=\"LyonHPC\" />\n",
      "<img style=\" float:center; display:inline; width:200px;\" src=\"Figures/python-logo.gif\" alt=\"LyonHPC\"/>\n",
      "</center>\n",
      "</div>\n",
      "<img src=\"Figures/python_file.png\" style=\"width:300px;\" />"
     ]
    }
   ],
   "metadata": {}
  }
 ]
}